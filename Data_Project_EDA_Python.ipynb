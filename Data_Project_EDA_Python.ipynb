{
 "cells": [
  {
   "cell_type": "code",
   "execution_count": 580,
   "metadata": {},
   "outputs": [],
   "source": [
    "# 0.EXPLORATORY DATA ANALYSIS POINTS\n",
    "\n",
    "#PREGUNTAS:S\n",
    "\n",
    "#📌1.¿Cuántos clientes aceptaron el depósito a plazo? \n",
    "    # 🔹La variable objetivo suele ser \"y\", que indica si el cliente suscribió (yes) o no (no) el depósito.\n",
    "    # 🔹Analizar cuántos dijeron \"sí\" vs. \"no\" nos ayuda a ver si los datos están balanceados o desequilibrados.\n",
    "\n",
    "\n",
    "#📌2.¿Qué tipo de clientes son más propensos a aceptar la oferta?\n",
    "    # 🔹Edad: ¿Los clientes más jóvenes o mayores aceptan más?\n",
    "    # 🔹Trabajo: ¿Qué tipo de empleo tienen los clientes que aceptan?\n",
    "    # 🔹Nivel educativo: ¿Importa el nivel de estudios en la decisión?\n",
    "\n",
    "\n",
    "#📌3.¿Cuántas llamadas fueron necesarias para convencer a los clientes?\n",
    "    # 🔹Duración de la última llamada (duration): ¿Las llamadas más largas aumentan la conversión?\n",
    "    # 🔹Número de contactos (campaign): ¿Cuántas veces fue necesario llamar a un cliente antes de aceptar?\n",
    "\n",
    "\n",
    "#📌4.¿Influyen las condiciones económicas en la decisión?\n",
    "    # 🔹Mes de la campaña (month): ¿Hay meses con mejor respuesta?\n",
    "    # 🔹Tasa de empleo (employment_rate): ¿El contexto económico afectó la decisión?\n",
    "\n",
    "\n",
    "#📌5.¿Cómo interactúan los factores entre sí? \n",
    "    # 🔹¿La combinación de edad + educación influye en la decisión?\n",
    "    # 🔹¿La duración de la llamada es más efectiva en ciertos grupos de clientes?\n"
   ]
  },
  {
   "cell_type": "code",
   "execution_count": 581,
   "metadata": {},
   "outputs": [],
   "source": [
    "#🔸STEP 1: IMPORT PYTHON LIBRARIES\n",
    "\n",
    "import pandas as pd\n",
    "import numpy as np\n",
    "import matplotlib.pyplot as plt\n",
    "import seaborn as sns\n",
    "import os\n",
    "\n",
    "#Visualizar todas las columnas\n",
    "pd.set_option('display.max_columns', None)\n"
   ]
  },
  {
   "cell_type": "code",
   "execution_count": 582,
   "metadata": {},
   "outputs": [
    {
     "data": {
      "text/html": [
       "<div>\n",
       "<style scoped>\n",
       "    .dataframe tbody tr th:only-of-type {\n",
       "        vertical-align: middle;\n",
       "    }\n",
       "\n",
       "    .dataframe tbody tr th {\n",
       "        vertical-align: top;\n",
       "    }\n",
       "\n",
       "    .dataframe thead th {\n",
       "        text-align: right;\n",
       "    }\n",
       "</style>\n",
       "<table border=\"1\" class=\"dataframe\">\n",
       "  <thead>\n",
       "    <tr style=\"text-align: right;\">\n",
       "      <th></th>\n",
       "      <th>Unnamed: 0</th>\n",
       "      <th>age</th>\n",
       "      <th>job</th>\n",
       "      <th>marital</th>\n",
       "      <th>education</th>\n",
       "      <th>default</th>\n",
       "      <th>housing</th>\n",
       "      <th>loan</th>\n",
       "      <th>contact</th>\n",
       "      <th>duration</th>\n",
       "      <th>campaign</th>\n",
       "      <th>pdays</th>\n",
       "      <th>previous</th>\n",
       "      <th>poutcome</th>\n",
       "      <th>emp.var.rate</th>\n",
       "      <th>cons.price.idx</th>\n",
       "      <th>cons.conf.idx</th>\n",
       "      <th>euribor3m</th>\n",
       "      <th>nr.employed</th>\n",
       "      <th>y</th>\n",
       "      <th>date</th>\n",
       "      <th>latitude</th>\n",
       "      <th>longitude</th>\n",
       "    </tr>\n",
       "    <tr>\n",
       "      <th>id_</th>\n",
       "      <th></th>\n",
       "      <th></th>\n",
       "      <th></th>\n",
       "      <th></th>\n",
       "      <th></th>\n",
       "      <th></th>\n",
       "      <th></th>\n",
       "      <th></th>\n",
       "      <th></th>\n",
       "      <th></th>\n",
       "      <th></th>\n",
       "      <th></th>\n",
       "      <th></th>\n",
       "      <th></th>\n",
       "      <th></th>\n",
       "      <th></th>\n",
       "      <th></th>\n",
       "      <th></th>\n",
       "      <th></th>\n",
       "      <th></th>\n",
       "      <th></th>\n",
       "      <th></th>\n",
       "      <th></th>\n",
       "    </tr>\n",
       "  </thead>\n",
       "  <tbody>\n",
       "    <tr>\n",
       "      <th>089b39d8-e4d0-461b-87d4-814d71e0e079</th>\n",
       "      <td>0</td>\n",
       "      <td>NaN</td>\n",
       "      <td>housemaid</td>\n",
       "      <td>MARRIED</td>\n",
       "      <td>basic.4y</td>\n",
       "      <td>0.0</td>\n",
       "      <td>0.0</td>\n",
       "      <td>0.0</td>\n",
       "      <td>telephone</td>\n",
       "      <td>261</td>\n",
       "      <td>1</td>\n",
       "      <td>999</td>\n",
       "      <td>0</td>\n",
       "      <td>NONEXISTENT</td>\n",
       "      <td>1.1</td>\n",
       "      <td>93,994</td>\n",
       "      <td>-36,4</td>\n",
       "      <td>4,857</td>\n",
       "      <td>5191</td>\n",
       "      <td>no</td>\n",
       "      <td>2-agosto-2019</td>\n",
       "      <td>41.495</td>\n",
       "      <td>-71.233</td>\n",
       "    </tr>\n",
       "    <tr>\n",
       "      <th>e9d37224-cb6f-4942-98d7-46672963d097</th>\n",
       "      <td>1</td>\n",
       "      <td>57.0</td>\n",
       "      <td>services</td>\n",
       "      <td>MARRIED</td>\n",
       "      <td>high.school</td>\n",
       "      <td>NaN</td>\n",
       "      <td>0.0</td>\n",
       "      <td>0.0</td>\n",
       "      <td>telephone</td>\n",
       "      <td>149</td>\n",
       "      <td>1</td>\n",
       "      <td>999</td>\n",
       "      <td>0</td>\n",
       "      <td>NONEXISTENT</td>\n",
       "      <td>1.1</td>\n",
       "      <td>93,994</td>\n",
       "      <td>-36,4</td>\n",
       "      <td>NaN</td>\n",
       "      <td>5191</td>\n",
       "      <td>no</td>\n",
       "      <td>14-septiembre-2016</td>\n",
       "      <td>34.601</td>\n",
       "      <td>-83.923</td>\n",
       "    </tr>\n",
       "    <tr>\n",
       "      <th>3f9f49b5-e410-4948-bf6e-f9244f04918b</th>\n",
       "      <td>2</td>\n",
       "      <td>37.0</td>\n",
       "      <td>services</td>\n",
       "      <td>MARRIED</td>\n",
       "      <td>high.school</td>\n",
       "      <td>0.0</td>\n",
       "      <td>1.0</td>\n",
       "      <td>0.0</td>\n",
       "      <td>telephone</td>\n",
       "      <td>226</td>\n",
       "      <td>1</td>\n",
       "      <td>999</td>\n",
       "      <td>0</td>\n",
       "      <td>NONEXISTENT</td>\n",
       "      <td>1.1</td>\n",
       "      <td>93,994</td>\n",
       "      <td>-36,4</td>\n",
       "      <td>4,857</td>\n",
       "      <td>5191</td>\n",
       "      <td>no</td>\n",
       "      <td>15-febrero-2019</td>\n",
       "      <td>34.939</td>\n",
       "      <td>-94.847</td>\n",
       "    </tr>\n",
       "    <tr>\n",
       "      <th>9991fafb-4447-451a-8be2-b0df6098d13e</th>\n",
       "      <td>3</td>\n",
       "      <td>40.0</td>\n",
       "      <td>admin.</td>\n",
       "      <td>MARRIED</td>\n",
       "      <td>basic.6y</td>\n",
       "      <td>0.0</td>\n",
       "      <td>0.0</td>\n",
       "      <td>0.0</td>\n",
       "      <td>telephone</td>\n",
       "      <td>151</td>\n",
       "      <td>1</td>\n",
       "      <td>999</td>\n",
       "      <td>0</td>\n",
       "      <td>NONEXISTENT</td>\n",
       "      <td>1.1</td>\n",
       "      <td>93,994</td>\n",
       "      <td>-36,4</td>\n",
       "      <td>NaN</td>\n",
       "      <td>5191</td>\n",
       "      <td>no</td>\n",
       "      <td>29-noviembre-2015</td>\n",
       "      <td>49.041</td>\n",
       "      <td>-70.308</td>\n",
       "    </tr>\n",
       "    <tr>\n",
       "      <th>eca60b76-70b6-4077-80ba-bc52e8ebb0eb</th>\n",
       "      <td>4</td>\n",
       "      <td>56.0</td>\n",
       "      <td>services</td>\n",
       "      <td>MARRIED</td>\n",
       "      <td>high.school</td>\n",
       "      <td>0.0</td>\n",
       "      <td>0.0</td>\n",
       "      <td>1.0</td>\n",
       "      <td>telephone</td>\n",
       "      <td>307</td>\n",
       "      <td>1</td>\n",
       "      <td>999</td>\n",
       "      <td>0</td>\n",
       "      <td>NONEXISTENT</td>\n",
       "      <td>1.1</td>\n",
       "      <td>93,994</td>\n",
       "      <td>-36,4</td>\n",
       "      <td>NaN</td>\n",
       "      <td>5191</td>\n",
       "      <td>no</td>\n",
       "      <td>29-enero-2017</td>\n",
       "      <td>38.033</td>\n",
       "      <td>-104.463</td>\n",
       "    </tr>\n",
       "  </tbody>\n",
       "</table>\n",
       "</div>"
      ],
      "text/plain": [
       "                                      Unnamed: 0   age        job  marital  \\\n",
       "id_                                                                          \n",
       "089b39d8-e4d0-461b-87d4-814d71e0e079           0   NaN  housemaid  MARRIED   \n",
       "e9d37224-cb6f-4942-98d7-46672963d097           1  57.0   services  MARRIED   \n",
       "3f9f49b5-e410-4948-bf6e-f9244f04918b           2  37.0   services  MARRIED   \n",
       "9991fafb-4447-451a-8be2-b0df6098d13e           3  40.0     admin.  MARRIED   \n",
       "eca60b76-70b6-4077-80ba-bc52e8ebb0eb           4  56.0   services  MARRIED   \n",
       "\n",
       "                                        education  default  housing  loan  \\\n",
       "id_                                                                         \n",
       "089b39d8-e4d0-461b-87d4-814d71e0e079     basic.4y      0.0      0.0   0.0   \n",
       "e9d37224-cb6f-4942-98d7-46672963d097  high.school      NaN      0.0   0.0   \n",
       "3f9f49b5-e410-4948-bf6e-f9244f04918b  high.school      0.0      1.0   0.0   \n",
       "9991fafb-4447-451a-8be2-b0df6098d13e     basic.6y      0.0      0.0   0.0   \n",
       "eca60b76-70b6-4077-80ba-bc52e8ebb0eb  high.school      0.0      0.0   1.0   \n",
       "\n",
       "                                        contact  duration  campaign  pdays  \\\n",
       "id_                                                                          \n",
       "089b39d8-e4d0-461b-87d4-814d71e0e079  telephone       261         1    999   \n",
       "e9d37224-cb6f-4942-98d7-46672963d097  telephone       149         1    999   \n",
       "3f9f49b5-e410-4948-bf6e-f9244f04918b  telephone       226         1    999   \n",
       "9991fafb-4447-451a-8be2-b0df6098d13e  telephone       151         1    999   \n",
       "eca60b76-70b6-4077-80ba-bc52e8ebb0eb  telephone       307         1    999   \n",
       "\n",
       "                                      previous     poutcome  emp.var.rate  \\\n",
       "id_                                                                         \n",
       "089b39d8-e4d0-461b-87d4-814d71e0e079         0  NONEXISTENT           1.1   \n",
       "e9d37224-cb6f-4942-98d7-46672963d097         0  NONEXISTENT           1.1   \n",
       "3f9f49b5-e410-4948-bf6e-f9244f04918b         0  NONEXISTENT           1.1   \n",
       "9991fafb-4447-451a-8be2-b0df6098d13e         0  NONEXISTENT           1.1   \n",
       "eca60b76-70b6-4077-80ba-bc52e8ebb0eb         0  NONEXISTENT           1.1   \n",
       "\n",
       "                                     cons.price.idx cons.conf.idx euribor3m  \\\n",
       "id_                                                                           \n",
       "089b39d8-e4d0-461b-87d4-814d71e0e079         93,994         -36,4     4,857   \n",
       "e9d37224-cb6f-4942-98d7-46672963d097         93,994         -36,4       NaN   \n",
       "3f9f49b5-e410-4948-bf6e-f9244f04918b         93,994         -36,4     4,857   \n",
       "9991fafb-4447-451a-8be2-b0df6098d13e         93,994         -36,4       NaN   \n",
       "eca60b76-70b6-4077-80ba-bc52e8ebb0eb         93,994         -36,4       NaN   \n",
       "\n",
       "                                     nr.employed   y                date  \\\n",
       "id_                                                                        \n",
       "089b39d8-e4d0-461b-87d4-814d71e0e079        5191  no       2-agosto-2019   \n",
       "e9d37224-cb6f-4942-98d7-46672963d097        5191  no  14-septiembre-2016   \n",
       "3f9f49b5-e410-4948-bf6e-f9244f04918b        5191  no     15-febrero-2019   \n",
       "9991fafb-4447-451a-8be2-b0df6098d13e        5191  no   29-noviembre-2015   \n",
       "eca60b76-70b6-4077-80ba-bc52e8ebb0eb        5191  no       29-enero-2017   \n",
       "\n",
       "                                      latitude  longitude  \n",
       "id_                                                        \n",
       "089b39d8-e4d0-461b-87d4-814d71e0e079    41.495    -71.233  \n",
       "e9d37224-cb6f-4942-98d7-46672963d097    34.601    -83.923  \n",
       "3f9f49b5-e410-4948-bf6e-f9244f04918b    34.939    -94.847  \n",
       "9991fafb-4447-451a-8be2-b0df6098d13e    49.041    -70.308  \n",
       "eca60b76-70b6-4077-80ba-bc52e8ebb0eb    38.033   -104.463  "
      ]
     },
     "execution_count": 582,
     "metadata": {},
     "output_type": "execute_result"
    }
   ],
   "source": [
    "#🔸STEP 2: READING DATASET\n",
    "\n",
    "df_bank = pd.read_csv('bank-additional.csv', index_col = \"id_\")\n",
    "df_bank.head(5)"
   ]
  },
  {
   "cell_type": "code",
   "execution_count": 583,
   "metadata": {},
   "outputs": [
    {
     "data": {
      "text/html": [
       "<div>\n",
       "<style scoped>\n",
       "    .dataframe tbody tr th:only-of-type {\n",
       "        vertical-align: middle;\n",
       "    }\n",
       "\n",
       "    .dataframe tbody tr th {\n",
       "        vertical-align: top;\n",
       "    }\n",
       "\n",
       "    .dataframe thead th {\n",
       "        text-align: right;\n",
       "    }\n",
       "</style>\n",
       "<table border=\"1\" class=\"dataframe\">\n",
       "  <thead>\n",
       "    <tr style=\"text-align: right;\">\n",
       "      <th></th>\n",
       "      <th>Unnamed: 0</th>\n",
       "      <th>Income</th>\n",
       "      <th>Kidhome</th>\n",
       "      <th>Teenhome</th>\n",
       "      <th>Dt_Customer</th>\n",
       "      <th>NumWebVisitsMonth</th>\n",
       "      <th>bank_registration_year</th>\n",
       "    </tr>\n",
       "    <tr>\n",
       "      <th>ID</th>\n",
       "      <th></th>\n",
       "      <th></th>\n",
       "      <th></th>\n",
       "      <th></th>\n",
       "      <th></th>\n",
       "      <th></th>\n",
       "      <th></th>\n",
       "    </tr>\n",
       "  </thead>\n",
       "  <tbody>\n",
       "    <tr>\n",
       "      <th>089b39d8-e4d0-461b-87d4-814d71e0e079</th>\n",
       "      <td>0</td>\n",
       "      <td>161770</td>\n",
       "      <td>1</td>\n",
       "      <td>0</td>\n",
       "      <td>2012-04-04</td>\n",
       "      <td>29</td>\n",
       "      <td>2012</td>\n",
       "    </tr>\n",
       "    <tr>\n",
       "      <th>e9d37224-cb6f-4942-98d7-46672963d097</th>\n",
       "      <td>1</td>\n",
       "      <td>85477</td>\n",
       "      <td>1</td>\n",
       "      <td>1</td>\n",
       "      <td>2012-12-30</td>\n",
       "      <td>7</td>\n",
       "      <td>2012</td>\n",
       "    </tr>\n",
       "    <tr>\n",
       "      <th>3f9f49b5-e410-4948-bf6e-f9244f04918b</th>\n",
       "      <td>2</td>\n",
       "      <td>147233</td>\n",
       "      <td>1</td>\n",
       "      <td>1</td>\n",
       "      <td>2012-02-02</td>\n",
       "      <td>5</td>\n",
       "      <td>2012</td>\n",
       "    </tr>\n",
       "    <tr>\n",
       "      <th>9991fafb-4447-451a-8be2-b0df6098d13e</th>\n",
       "      <td>3</td>\n",
       "      <td>121393</td>\n",
       "      <td>1</td>\n",
       "      <td>2</td>\n",
       "      <td>2012-12-21</td>\n",
       "      <td>29</td>\n",
       "      <td>2012</td>\n",
       "    </tr>\n",
       "    <tr>\n",
       "      <th>eca60b76-70b6-4077-80ba-bc52e8ebb0eb</th>\n",
       "      <td>4</td>\n",
       "      <td>63164</td>\n",
       "      <td>1</td>\n",
       "      <td>2</td>\n",
       "      <td>2012-06-20</td>\n",
       "      <td>20</td>\n",
       "      <td>2012</td>\n",
       "    </tr>\n",
       "  </tbody>\n",
       "</table>\n",
       "</div>"
      ],
      "text/plain": [
       "                                      Unnamed: 0  Income  Kidhome  Teenhome  \\\n",
       "ID                                                                            \n",
       "089b39d8-e4d0-461b-87d4-814d71e0e079           0  161770        1         0   \n",
       "e9d37224-cb6f-4942-98d7-46672963d097           1   85477        1         1   \n",
       "3f9f49b5-e410-4948-bf6e-f9244f04918b           2  147233        1         1   \n",
       "9991fafb-4447-451a-8be2-b0df6098d13e           3  121393        1         2   \n",
       "eca60b76-70b6-4077-80ba-bc52e8ebb0eb           4   63164        1         2   \n",
       "\n",
       "                                     Dt_Customer  NumWebVisitsMonth  \\\n",
       "ID                                                                    \n",
       "089b39d8-e4d0-461b-87d4-814d71e0e079  2012-04-04                 29   \n",
       "e9d37224-cb6f-4942-98d7-46672963d097  2012-12-30                  7   \n",
       "3f9f49b5-e410-4948-bf6e-f9244f04918b  2012-02-02                  5   \n",
       "9991fafb-4447-451a-8be2-b0df6098d13e  2012-12-21                 29   \n",
       "eca60b76-70b6-4077-80ba-bc52e8ebb0eb  2012-06-20                 20   \n",
       "\n",
       "                                     bank_registration_year  \n",
       "ID                                                           \n",
       "089b39d8-e4d0-461b-87d4-814d71e0e079                   2012  \n",
       "e9d37224-cb6f-4942-98d7-46672963d097                   2012  \n",
       "3f9f49b5-e410-4948-bf6e-f9244f04918b                   2012  \n",
       "9991fafb-4447-451a-8be2-b0df6098d13e                   2012  \n",
       "eca60b76-70b6-4077-80ba-bc52e8ebb0eb                   2012  "
      ]
     },
     "execution_count": 583,
     "metadata": {},
     "output_type": "execute_result"
    }
   ],
   "source": [
    "#Ruta archivo del Excel - customer_details\n",
    "\n",
    "file_path = \"customer-details.xlsx\"\n",
    "\n",
    "# Leer todas las hojas (obtenemos un diccionario de DataFrames)\n",
    "sheets_dict = pd.read_excel(file_path, sheet_name=None)\n",
    "\n",
    "# Extraemos las hojas y asignamos el año usando 'map' sin bucles explícitos\n",
    "df_customer_details = pd.concat(\n",
    "    list(map(lambda df, year: df.assign(bank_registration_year=year), sheets_dict.values(), sheets_dict.keys())), \n",
    "    ignore_index=True).set_index(\"ID\")\n",
    "\n",
    "# Mostrar las primeras filas para verificar\n",
    "df_customer_details.head()\n",
    "\n"
   ]
  },
  {
   "cell_type": "code",
   "execution_count": 584,
   "metadata": {},
   "outputs": [],
   "source": [
    "# ENTENDIENDO LOS DATOS:\n",
    "    #---columns\n",
    "    #---shape\n",
    "    #---dtypes\n",
    "    #---head\n",
    "    #---tail\n",
    "    #---describe\n",
    "    #---info"
   ]
  },
  {
   "cell_type": "code",
   "execution_count": 585,
   "metadata": {},
   "outputs": [
    {
     "data": {
      "text/plain": [
       "Index(['Unnamed: 0', 'Income', 'Kidhome', 'Teenhome', 'Dt_Customer',\n",
       "       'NumWebVisitsMonth', 'bank_registration_year'],\n",
       "      dtype='object')"
      ]
     },
     "execution_count": 585,
     "metadata": {},
     "output_type": "execute_result"
    }
   ],
   "source": [
    "# Ver las columnas \n",
    "df_customer_details.columns"
   ]
  },
  {
   "cell_type": "code",
   "execution_count": 586,
   "metadata": {},
   "outputs": [
    {
     "data": {
      "text/plain": [
       "(43170, 7)"
      ]
     },
     "execution_count": 586,
     "metadata": {},
     "output_type": "execute_result"
    }
   ],
   "source": [
    "# Ver numero de filas y columnas \n",
    "df_customer_details.shape"
   ]
  },
  {
   "cell_type": "code",
   "execution_count": 587,
   "metadata": {},
   "outputs": [
    {
     "data": {
      "text/plain": [
       "Unnamed: 0                         int64\n",
       "Income                             int64\n",
       "Kidhome                            int64\n",
       "Teenhome                           int64\n",
       "Dt_Customer               datetime64[ns]\n",
       "NumWebVisitsMonth                  int64\n",
       "bank_registration_year            object\n",
       "dtype: object"
      ]
     },
     "execution_count": 587,
     "metadata": {},
     "output_type": "execute_result"
    }
   ],
   "source": [
    "# Ver tipo de datos \n",
    "df_customer_details.dtypes"
   ]
  },
  {
   "cell_type": "code",
   "execution_count": 588,
   "metadata": {},
   "outputs": [
    {
     "data": {
      "text/html": [
       "<div>\n",
       "<style scoped>\n",
       "    .dataframe tbody tr th:only-of-type {\n",
       "        vertical-align: middle;\n",
       "    }\n",
       "\n",
       "    .dataframe tbody tr th {\n",
       "        vertical-align: top;\n",
       "    }\n",
       "\n",
       "    .dataframe thead th {\n",
       "        text-align: right;\n",
       "    }\n",
       "</style>\n",
       "<table border=\"1\" class=\"dataframe\">\n",
       "  <thead>\n",
       "    <tr style=\"text-align: right;\">\n",
       "      <th></th>\n",
       "      <th>Unnamed: 0</th>\n",
       "      <th>Income</th>\n",
       "      <th>Kidhome</th>\n",
       "      <th>Teenhome</th>\n",
       "      <th>Dt_Customer</th>\n",
       "      <th>NumWebVisitsMonth</th>\n",
       "      <th>bank_registration_year</th>\n",
       "    </tr>\n",
       "    <tr>\n",
       "      <th>ID</th>\n",
       "      <th></th>\n",
       "      <th></th>\n",
       "      <th></th>\n",
       "      <th></th>\n",
       "      <th></th>\n",
       "      <th></th>\n",
       "      <th></th>\n",
       "    </tr>\n",
       "  </thead>\n",
       "  <tbody>\n",
       "    <tr>\n",
       "      <th>089b39d8-e4d0-461b-87d4-814d71e0e079</th>\n",
       "      <td>0</td>\n",
       "      <td>161770</td>\n",
       "      <td>1</td>\n",
       "      <td>0</td>\n",
       "      <td>2012-04-04</td>\n",
       "      <td>29</td>\n",
       "      <td>2012</td>\n",
       "    </tr>\n",
       "    <tr>\n",
       "      <th>e9d37224-cb6f-4942-98d7-46672963d097</th>\n",
       "      <td>1</td>\n",
       "      <td>85477</td>\n",
       "      <td>1</td>\n",
       "      <td>1</td>\n",
       "      <td>2012-12-30</td>\n",
       "      <td>7</td>\n",
       "      <td>2012</td>\n",
       "    </tr>\n",
       "    <tr>\n",
       "      <th>3f9f49b5-e410-4948-bf6e-f9244f04918b</th>\n",
       "      <td>2</td>\n",
       "      <td>147233</td>\n",
       "      <td>1</td>\n",
       "      <td>1</td>\n",
       "      <td>2012-02-02</td>\n",
       "      <td>5</td>\n",
       "      <td>2012</td>\n",
       "    </tr>\n",
       "  </tbody>\n",
       "</table>\n",
       "</div>"
      ],
      "text/plain": [
       "                                      Unnamed: 0  Income  Kidhome  Teenhome  \\\n",
       "ID                                                                            \n",
       "089b39d8-e4d0-461b-87d4-814d71e0e079           0  161770        1         0   \n",
       "e9d37224-cb6f-4942-98d7-46672963d097           1   85477        1         1   \n",
       "3f9f49b5-e410-4948-bf6e-f9244f04918b           2  147233        1         1   \n",
       "\n",
       "                                     Dt_Customer  NumWebVisitsMonth  \\\n",
       "ID                                                                    \n",
       "089b39d8-e4d0-461b-87d4-814d71e0e079  2012-04-04                 29   \n",
       "e9d37224-cb6f-4942-98d7-46672963d097  2012-12-30                  7   \n",
       "3f9f49b5-e410-4948-bf6e-f9244f04918b  2012-02-02                  5   \n",
       "\n",
       "                                     bank_registration_year  \n",
       "ID                                                           \n",
       "089b39d8-e4d0-461b-87d4-814d71e0e079                   2012  \n",
       "e9d37224-cb6f-4942-98d7-46672963d097                   2012  \n",
       "3f9f49b5-e410-4948-bf6e-f9244f04918b                   2012  "
      ]
     },
     "execution_count": 588,
     "metadata": {},
     "output_type": "execute_result"
    }
   ],
   "source": [
    "# Ver primeras 3 filas\n",
    "df_customer_details.head(3)"
   ]
  },
  {
   "cell_type": "code",
   "execution_count": 589,
   "metadata": {},
   "outputs": [
    {
     "data": {
      "text/html": [
       "<div>\n",
       "<style scoped>\n",
       "    .dataframe tbody tr th:only-of-type {\n",
       "        vertical-align: middle;\n",
       "    }\n",
       "\n",
       "    .dataframe tbody tr th {\n",
       "        vertical-align: top;\n",
       "    }\n",
       "\n",
       "    .dataframe thead th {\n",
       "        text-align: right;\n",
       "    }\n",
       "</style>\n",
       "<table border=\"1\" class=\"dataframe\">\n",
       "  <thead>\n",
       "    <tr style=\"text-align: right;\">\n",
       "      <th></th>\n",
       "      <th>Unnamed: 0</th>\n",
       "      <th>Income</th>\n",
       "      <th>Kidhome</th>\n",
       "      <th>Teenhome</th>\n",
       "      <th>Dt_Customer</th>\n",
       "      <th>NumWebVisitsMonth</th>\n",
       "      <th>bank_registration_year</th>\n",
       "    </tr>\n",
       "    <tr>\n",
       "      <th>ID</th>\n",
       "      <th></th>\n",
       "      <th></th>\n",
       "      <th></th>\n",
       "      <th></th>\n",
       "      <th></th>\n",
       "      <th></th>\n",
       "      <th></th>\n",
       "    </tr>\n",
       "  </thead>\n",
       "  <tbody>\n",
       "    <tr>\n",
       "      <th>d6271666-319d-42c8-a741-cb22bf2c2093</th>\n",
       "      <td>14087</td>\n",
       "      <td>78470</td>\n",
       "      <td>2</td>\n",
       "      <td>2</td>\n",
       "      <td>2014-10-28</td>\n",
       "      <td>12</td>\n",
       "      <td>2014</td>\n",
       "    </tr>\n",
       "    <tr>\n",
       "      <th>f67fbfa8-6573-414d-a805-b26a2f1b1ceb</th>\n",
       "      <td>14088</td>\n",
       "      <td>144218</td>\n",
       "      <td>0</td>\n",
       "      <td>1</td>\n",
       "      <td>2014-07-01</td>\n",
       "      <td>9</td>\n",
       "      <td>2014</td>\n",
       "    </tr>\n",
       "    <tr>\n",
       "      <th>9727bc06-c11a-461a-a5bb-3d210467cc2a</th>\n",
       "      <td>14089</td>\n",
       "      <td>115155</td>\n",
       "      <td>0</td>\n",
       "      <td>2</td>\n",
       "      <td>2014-12-25</td>\n",
       "      <td>7</td>\n",
       "      <td>2014</td>\n",
       "    </tr>\n",
       "  </tbody>\n",
       "</table>\n",
       "</div>"
      ],
      "text/plain": [
       "                                      Unnamed: 0  Income  Kidhome  Teenhome  \\\n",
       "ID                                                                            \n",
       "d6271666-319d-42c8-a741-cb22bf2c2093       14087   78470        2         2   \n",
       "f67fbfa8-6573-414d-a805-b26a2f1b1ceb       14088  144218        0         1   \n",
       "9727bc06-c11a-461a-a5bb-3d210467cc2a       14089  115155        0         2   \n",
       "\n",
       "                                     Dt_Customer  NumWebVisitsMonth  \\\n",
       "ID                                                                    \n",
       "d6271666-319d-42c8-a741-cb22bf2c2093  2014-10-28                 12   \n",
       "f67fbfa8-6573-414d-a805-b26a2f1b1ceb  2014-07-01                  9   \n",
       "9727bc06-c11a-461a-a5bb-3d210467cc2a  2014-12-25                  7   \n",
       "\n",
       "                                     bank_registration_year  \n",
       "ID                                                           \n",
       "d6271666-319d-42c8-a741-cb22bf2c2093                   2014  \n",
       "f67fbfa8-6573-414d-a805-b26a2f1b1ceb                   2014  \n",
       "9727bc06-c11a-461a-a5bb-3d210467cc2a                   2014  "
      ]
     },
     "execution_count": 589,
     "metadata": {},
     "output_type": "execute_result"
    }
   ],
   "source": [
    "# Ver últimas 3 filas\n",
    "df_customer_details.tail(3)"
   ]
  },
  {
   "cell_type": "code",
   "execution_count": 590,
   "metadata": {},
   "outputs": [
    {
     "data": {
      "text/html": [
       "<div>\n",
       "<style scoped>\n",
       "    .dataframe tbody tr th:only-of-type {\n",
       "        vertical-align: middle;\n",
       "    }\n",
       "\n",
       "    .dataframe tbody tr th {\n",
       "        vertical-align: top;\n",
       "    }\n",
       "\n",
       "    .dataframe thead th {\n",
       "        text-align: right;\n",
       "    }\n",
       "</style>\n",
       "<table border=\"1\" class=\"dataframe\">\n",
       "  <thead>\n",
       "    <tr style=\"text-align: right;\">\n",
       "      <th></th>\n",
       "      <th>Unnamed: 0</th>\n",
       "      <th>Income</th>\n",
       "      <th>Kidhome</th>\n",
       "      <th>Teenhome</th>\n",
       "      <th>Dt_Customer</th>\n",
       "      <th>NumWebVisitsMonth</th>\n",
       "    </tr>\n",
       "  </thead>\n",
       "  <tbody>\n",
       "    <tr>\n",
       "      <th>count</th>\n",
       "      <td>43170.000000</td>\n",
       "      <td>43170.000000</td>\n",
       "      <td>43170.000000</td>\n",
       "      <td>43170.000000</td>\n",
       "      <td>43170</td>\n",
       "      <td>43170.000000</td>\n",
       "    </tr>\n",
       "    <tr>\n",
       "      <th>mean</th>\n",
       "      <td>7916.022469</td>\n",
       "      <td>93227.389622</td>\n",
       "      <td>1.004749</td>\n",
       "      <td>0.998633</td>\n",
       "      <td>2013-05-11 22:09:47.407922176</td>\n",
       "      <td>16.591290</td>\n",
       "    </tr>\n",
       "    <tr>\n",
       "      <th>min</th>\n",
       "      <td>0.000000</td>\n",
       "      <td>5841.000000</td>\n",
       "      <td>0.000000</td>\n",
       "      <td>0.000000</td>\n",
       "      <td>2012-01-01 00:00:00</td>\n",
       "      <td>1.000000</td>\n",
       "    </tr>\n",
       "    <tr>\n",
       "      <th>25%</th>\n",
       "      <td>3597.000000</td>\n",
       "      <td>49608.000000</td>\n",
       "      <td>0.000000</td>\n",
       "      <td>0.000000</td>\n",
       "      <td>2012-07-16 00:00:00</td>\n",
       "      <td>9.000000</td>\n",
       "    </tr>\n",
       "    <tr>\n",
       "      <th>50%</th>\n",
       "      <td>7194.500000</td>\n",
       "      <td>93009.500000</td>\n",
       "      <td>1.000000</td>\n",
       "      <td>1.000000</td>\n",
       "      <td>2013-03-01 00:00:00</td>\n",
       "      <td>17.000000</td>\n",
       "    </tr>\n",
       "    <tr>\n",
       "      <th>75%</th>\n",
       "      <td>11705.750000</td>\n",
       "      <td>136740.500000</td>\n",
       "      <td>2.000000</td>\n",
       "      <td>2.000000</td>\n",
       "      <td>2014-03-28 00:00:00</td>\n",
       "      <td>25.000000</td>\n",
       "    </tr>\n",
       "    <tr>\n",
       "      <th>max</th>\n",
       "      <td>20114.000000</td>\n",
       "      <td>180802.000000</td>\n",
       "      <td>2.000000</td>\n",
       "      <td>2.000000</td>\n",
       "      <td>2014-12-31 00:00:00</td>\n",
       "      <td>32.000000</td>\n",
       "    </tr>\n",
       "    <tr>\n",
       "      <th>std</th>\n",
       "      <td>5228.248885</td>\n",
       "      <td>50498.181989</td>\n",
       "      <td>0.815996</td>\n",
       "      <td>0.816008</td>\n",
       "      <td>NaN</td>\n",
       "      <td>9.241769</td>\n",
       "    </tr>\n",
       "  </tbody>\n",
       "</table>\n",
       "</div>"
      ],
      "text/plain": [
       "         Unnamed: 0         Income       Kidhome      Teenhome  \\\n",
       "count  43170.000000   43170.000000  43170.000000  43170.000000   \n",
       "mean    7916.022469   93227.389622      1.004749      0.998633   \n",
       "min        0.000000    5841.000000      0.000000      0.000000   \n",
       "25%     3597.000000   49608.000000      0.000000      0.000000   \n",
       "50%     7194.500000   93009.500000      1.000000      1.000000   \n",
       "75%    11705.750000  136740.500000      2.000000      2.000000   \n",
       "max    20114.000000  180802.000000      2.000000      2.000000   \n",
       "std     5228.248885   50498.181989      0.815996      0.816008   \n",
       "\n",
       "                         Dt_Customer  NumWebVisitsMonth  \n",
       "count                          43170       43170.000000  \n",
       "mean   2013-05-11 22:09:47.407922176          16.591290  \n",
       "min              2012-01-01 00:00:00           1.000000  \n",
       "25%              2012-07-16 00:00:00           9.000000  \n",
       "50%              2013-03-01 00:00:00          17.000000  \n",
       "75%              2014-03-28 00:00:00          25.000000  \n",
       "max              2014-12-31 00:00:00          32.000000  \n",
       "std                              NaN           9.241769  "
      ]
     },
     "execution_count": 590,
     "metadata": {},
     "output_type": "execute_result"
    }
   ],
   "source": [
    "# Ver estadísticas generales\n",
    "df_customer_details.describe()"
   ]
  },
  {
   "cell_type": "code",
   "execution_count": 591,
   "metadata": {},
   "outputs": [
    {
     "name": "stdout",
     "output_type": "stream",
     "text": [
      "<class 'pandas.core.frame.DataFrame'>\n",
      "Index: 43170 entries, 089b39d8-e4d0-461b-87d4-814d71e0e079 to 9727bc06-c11a-461a-a5bb-3d210467cc2a\n",
      "Data columns (total 7 columns):\n",
      " #   Column                  Non-Null Count  Dtype         \n",
      "---  ------                  --------------  -----         \n",
      " 0   Unnamed: 0              43170 non-null  int64         \n",
      " 1   Income                  43170 non-null  int64         \n",
      " 2   Kidhome                 43170 non-null  int64         \n",
      " 3   Teenhome                43170 non-null  int64         \n",
      " 4   Dt_Customer             43170 non-null  datetime64[ns]\n",
      " 5   NumWebVisitsMonth       43170 non-null  int64         \n",
      " 6   bank_registration_year  43170 non-null  object        \n",
      "dtypes: datetime64[ns](1), int64(5), object(1)\n",
      "memory usage: 2.6+ MB\n"
     ]
    }
   ],
   "source": [
    "# Ver detalles\n",
    "df_customer_details.info()"
   ]
  },
  {
   "cell_type": "code",
   "execution_count": 592,
   "metadata": {},
   "outputs": [
    {
     "data": {
      "text/plain": [
       "(43000, 23)"
      ]
     },
     "execution_count": 592,
     "metadata": {},
     "output_type": "execute_result"
    }
   ],
   "source": [
    "# Ver numero de filas y columnas \n",
    "df_bank.shape"
   ]
  },
  {
   "cell_type": "code",
   "execution_count": 593,
   "metadata": {},
   "outputs": [
    {
     "data": {
      "text/plain": [
       "Index(['Unnamed: 0', 'age', 'job', 'marital', 'education', 'default',\n",
       "       'housing', 'loan', 'contact', 'duration', 'campaign', 'pdays',\n",
       "       'previous', 'poutcome', 'emp.var.rate', 'cons.price.idx',\n",
       "       'cons.conf.idx', 'euribor3m', 'nr.employed', 'y', 'date', 'latitude',\n",
       "       'longitude'],\n",
       "      dtype='object')"
      ]
     },
     "execution_count": 593,
     "metadata": {},
     "output_type": "execute_result"
    }
   ],
   "source": [
    "# Ver las columnas \n",
    "df_bank.columns"
   ]
  },
  {
   "cell_type": "code",
   "execution_count": 594,
   "metadata": {},
   "outputs": [
    {
     "data": {
      "text/plain": [
       "Unnamed: 0          int64\n",
       "age               float64\n",
       "job                object\n",
       "marital            object\n",
       "education          object\n",
       "default           float64\n",
       "housing           float64\n",
       "loan              float64\n",
       "contact            object\n",
       "duration            int64\n",
       "campaign            int64\n",
       "pdays               int64\n",
       "previous            int64\n",
       "poutcome           object\n",
       "emp.var.rate      float64\n",
       "cons.price.idx     object\n",
       "cons.conf.idx      object\n",
       "euribor3m          object\n",
       "nr.employed        object\n",
       "y                  object\n",
       "date               object\n",
       "latitude          float64\n",
       "longitude         float64\n",
       "dtype: object"
      ]
     },
     "execution_count": 594,
     "metadata": {},
     "output_type": "execute_result"
    }
   ],
   "source": [
    "# Ver tipo de datos \n",
    "df_bank.dtypes"
   ]
  },
  {
   "cell_type": "code",
   "execution_count": 595,
   "metadata": {},
   "outputs": [
    {
     "data": {
      "text/html": [
       "<div>\n",
       "<style scoped>\n",
       "    .dataframe tbody tr th:only-of-type {\n",
       "        vertical-align: middle;\n",
       "    }\n",
       "\n",
       "    .dataframe tbody tr th {\n",
       "        vertical-align: top;\n",
       "    }\n",
       "\n",
       "    .dataframe thead th {\n",
       "        text-align: right;\n",
       "    }\n",
       "</style>\n",
       "<table border=\"1\" class=\"dataframe\">\n",
       "  <thead>\n",
       "    <tr style=\"text-align: right;\">\n",
       "      <th></th>\n",
       "      <th>Unnamed: 0</th>\n",
       "      <th>age</th>\n",
       "      <th>job</th>\n",
       "      <th>marital</th>\n",
       "      <th>education</th>\n",
       "      <th>default</th>\n",
       "      <th>housing</th>\n",
       "      <th>loan</th>\n",
       "      <th>contact</th>\n",
       "      <th>duration</th>\n",
       "      <th>campaign</th>\n",
       "      <th>pdays</th>\n",
       "      <th>previous</th>\n",
       "      <th>poutcome</th>\n",
       "      <th>emp.var.rate</th>\n",
       "      <th>cons.price.idx</th>\n",
       "      <th>cons.conf.idx</th>\n",
       "      <th>euribor3m</th>\n",
       "      <th>nr.employed</th>\n",
       "      <th>y</th>\n",
       "      <th>date</th>\n",
       "      <th>latitude</th>\n",
       "      <th>longitude</th>\n",
       "    </tr>\n",
       "    <tr>\n",
       "      <th>id_</th>\n",
       "      <th></th>\n",
       "      <th></th>\n",
       "      <th></th>\n",
       "      <th></th>\n",
       "      <th></th>\n",
       "      <th></th>\n",
       "      <th></th>\n",
       "      <th></th>\n",
       "      <th></th>\n",
       "      <th></th>\n",
       "      <th></th>\n",
       "      <th></th>\n",
       "      <th></th>\n",
       "      <th></th>\n",
       "      <th></th>\n",
       "      <th></th>\n",
       "      <th></th>\n",
       "      <th></th>\n",
       "      <th></th>\n",
       "      <th></th>\n",
       "      <th></th>\n",
       "      <th></th>\n",
       "      <th></th>\n",
       "    </tr>\n",
       "  </thead>\n",
       "  <tbody>\n",
       "    <tr>\n",
       "      <th>089b39d8-e4d0-461b-87d4-814d71e0e079</th>\n",
       "      <td>0</td>\n",
       "      <td>NaN</td>\n",
       "      <td>housemaid</td>\n",
       "      <td>MARRIED</td>\n",
       "      <td>basic.4y</td>\n",
       "      <td>0.0</td>\n",
       "      <td>0.0</td>\n",
       "      <td>0.0</td>\n",
       "      <td>telephone</td>\n",
       "      <td>261</td>\n",
       "      <td>1</td>\n",
       "      <td>999</td>\n",
       "      <td>0</td>\n",
       "      <td>NONEXISTENT</td>\n",
       "      <td>1.1</td>\n",
       "      <td>93,994</td>\n",
       "      <td>-36,4</td>\n",
       "      <td>4,857</td>\n",
       "      <td>5191</td>\n",
       "      <td>no</td>\n",
       "      <td>2-agosto-2019</td>\n",
       "      <td>41.495</td>\n",
       "      <td>-71.233</td>\n",
       "    </tr>\n",
       "    <tr>\n",
       "      <th>e9d37224-cb6f-4942-98d7-46672963d097</th>\n",
       "      <td>1</td>\n",
       "      <td>57.0</td>\n",
       "      <td>services</td>\n",
       "      <td>MARRIED</td>\n",
       "      <td>high.school</td>\n",
       "      <td>NaN</td>\n",
       "      <td>0.0</td>\n",
       "      <td>0.0</td>\n",
       "      <td>telephone</td>\n",
       "      <td>149</td>\n",
       "      <td>1</td>\n",
       "      <td>999</td>\n",
       "      <td>0</td>\n",
       "      <td>NONEXISTENT</td>\n",
       "      <td>1.1</td>\n",
       "      <td>93,994</td>\n",
       "      <td>-36,4</td>\n",
       "      <td>NaN</td>\n",
       "      <td>5191</td>\n",
       "      <td>no</td>\n",
       "      <td>14-septiembre-2016</td>\n",
       "      <td>34.601</td>\n",
       "      <td>-83.923</td>\n",
       "    </tr>\n",
       "    <tr>\n",
       "      <th>3f9f49b5-e410-4948-bf6e-f9244f04918b</th>\n",
       "      <td>2</td>\n",
       "      <td>37.0</td>\n",
       "      <td>services</td>\n",
       "      <td>MARRIED</td>\n",
       "      <td>high.school</td>\n",
       "      <td>0.0</td>\n",
       "      <td>1.0</td>\n",
       "      <td>0.0</td>\n",
       "      <td>telephone</td>\n",
       "      <td>226</td>\n",
       "      <td>1</td>\n",
       "      <td>999</td>\n",
       "      <td>0</td>\n",
       "      <td>NONEXISTENT</td>\n",
       "      <td>1.1</td>\n",
       "      <td>93,994</td>\n",
       "      <td>-36,4</td>\n",
       "      <td>4,857</td>\n",
       "      <td>5191</td>\n",
       "      <td>no</td>\n",
       "      <td>15-febrero-2019</td>\n",
       "      <td>34.939</td>\n",
       "      <td>-94.847</td>\n",
       "    </tr>\n",
       "  </tbody>\n",
       "</table>\n",
       "</div>"
      ],
      "text/plain": [
       "                                      Unnamed: 0   age        job  marital  \\\n",
       "id_                                                                          \n",
       "089b39d8-e4d0-461b-87d4-814d71e0e079           0   NaN  housemaid  MARRIED   \n",
       "e9d37224-cb6f-4942-98d7-46672963d097           1  57.0   services  MARRIED   \n",
       "3f9f49b5-e410-4948-bf6e-f9244f04918b           2  37.0   services  MARRIED   \n",
       "\n",
       "                                        education  default  housing  loan  \\\n",
       "id_                                                                         \n",
       "089b39d8-e4d0-461b-87d4-814d71e0e079     basic.4y      0.0      0.0   0.0   \n",
       "e9d37224-cb6f-4942-98d7-46672963d097  high.school      NaN      0.0   0.0   \n",
       "3f9f49b5-e410-4948-bf6e-f9244f04918b  high.school      0.0      1.0   0.0   \n",
       "\n",
       "                                        contact  duration  campaign  pdays  \\\n",
       "id_                                                                          \n",
       "089b39d8-e4d0-461b-87d4-814d71e0e079  telephone       261         1    999   \n",
       "e9d37224-cb6f-4942-98d7-46672963d097  telephone       149         1    999   \n",
       "3f9f49b5-e410-4948-bf6e-f9244f04918b  telephone       226         1    999   \n",
       "\n",
       "                                      previous     poutcome  emp.var.rate  \\\n",
       "id_                                                                         \n",
       "089b39d8-e4d0-461b-87d4-814d71e0e079         0  NONEXISTENT           1.1   \n",
       "e9d37224-cb6f-4942-98d7-46672963d097         0  NONEXISTENT           1.1   \n",
       "3f9f49b5-e410-4948-bf6e-f9244f04918b         0  NONEXISTENT           1.1   \n",
       "\n",
       "                                     cons.price.idx cons.conf.idx euribor3m  \\\n",
       "id_                                                                           \n",
       "089b39d8-e4d0-461b-87d4-814d71e0e079         93,994         -36,4     4,857   \n",
       "e9d37224-cb6f-4942-98d7-46672963d097         93,994         -36,4       NaN   \n",
       "3f9f49b5-e410-4948-bf6e-f9244f04918b         93,994         -36,4     4,857   \n",
       "\n",
       "                                     nr.employed   y                date  \\\n",
       "id_                                                                        \n",
       "089b39d8-e4d0-461b-87d4-814d71e0e079        5191  no       2-agosto-2019   \n",
       "e9d37224-cb6f-4942-98d7-46672963d097        5191  no  14-septiembre-2016   \n",
       "3f9f49b5-e410-4948-bf6e-f9244f04918b        5191  no     15-febrero-2019   \n",
       "\n",
       "                                      latitude  longitude  \n",
       "id_                                                        \n",
       "089b39d8-e4d0-461b-87d4-814d71e0e079    41.495    -71.233  \n",
       "e9d37224-cb6f-4942-98d7-46672963d097    34.601    -83.923  \n",
       "3f9f49b5-e410-4948-bf6e-f9244f04918b    34.939    -94.847  "
      ]
     },
     "execution_count": 595,
     "metadata": {},
     "output_type": "execute_result"
    }
   ],
   "source": [
    "# Ver primeras 3 filas\n",
    "df_bank.head(3)"
   ]
  },
  {
   "cell_type": "code",
   "execution_count": 596,
   "metadata": {},
   "outputs": [
    {
     "data": {
      "text/html": [
       "<div>\n",
       "<style scoped>\n",
       "    .dataframe tbody tr th:only-of-type {\n",
       "        vertical-align: middle;\n",
       "    }\n",
       "\n",
       "    .dataframe tbody tr th {\n",
       "        vertical-align: top;\n",
       "    }\n",
       "\n",
       "    .dataframe thead th {\n",
       "        text-align: right;\n",
       "    }\n",
       "</style>\n",
       "<table border=\"1\" class=\"dataframe\">\n",
       "  <thead>\n",
       "    <tr style=\"text-align: right;\">\n",
       "      <th></th>\n",
       "      <th>Unnamed: 0</th>\n",
       "      <th>age</th>\n",
       "      <th>job</th>\n",
       "      <th>marital</th>\n",
       "      <th>education</th>\n",
       "      <th>default</th>\n",
       "      <th>housing</th>\n",
       "      <th>loan</th>\n",
       "      <th>contact</th>\n",
       "      <th>duration</th>\n",
       "      <th>campaign</th>\n",
       "      <th>pdays</th>\n",
       "      <th>previous</th>\n",
       "      <th>poutcome</th>\n",
       "      <th>emp.var.rate</th>\n",
       "      <th>cons.price.idx</th>\n",
       "      <th>cons.conf.idx</th>\n",
       "      <th>euribor3m</th>\n",
       "      <th>nr.employed</th>\n",
       "      <th>y</th>\n",
       "      <th>date</th>\n",
       "      <th>latitude</th>\n",
       "      <th>longitude</th>\n",
       "    </tr>\n",
       "    <tr>\n",
       "      <th>id_</th>\n",
       "      <th></th>\n",
       "      <th></th>\n",
       "      <th></th>\n",
       "      <th></th>\n",
       "      <th></th>\n",
       "      <th></th>\n",
       "      <th></th>\n",
       "      <th></th>\n",
       "      <th></th>\n",
       "      <th></th>\n",
       "      <th></th>\n",
       "      <th></th>\n",
       "      <th></th>\n",
       "      <th></th>\n",
       "      <th></th>\n",
       "      <th></th>\n",
       "      <th></th>\n",
       "      <th></th>\n",
       "      <th></th>\n",
       "      <th></th>\n",
       "      <th></th>\n",
       "      <th></th>\n",
       "      <th></th>\n",
       "    </tr>\n",
       "  </thead>\n",
       "  <tbody>\n",
       "    <tr>\n",
       "      <th>cadadd4b-7ee5-4019-b13a-ca01bb67ca5b</th>\n",
       "      <td>15046</td>\n",
       "      <td>NaN</td>\n",
       "      <td>blue-collar</td>\n",
       "      <td>SINGLE</td>\n",
       "      <td>basic.6y</td>\n",
       "      <td>0.0</td>\n",
       "      <td>1.0</td>\n",
       "      <td>0.0</td>\n",
       "      <td>cellular</td>\n",
       "      <td>391</td>\n",
       "      <td>2</td>\n",
       "      <td>999</td>\n",
       "      <td>0</td>\n",
       "      <td>NONEXISTENT</td>\n",
       "      <td>1.4</td>\n",
       "      <td>93,918</td>\n",
       "      <td>-42,7</td>\n",
       "      <td>NaN</td>\n",
       "      <td>5228,1</td>\n",
       "      <td>no</td>\n",
       "      <td>15-septiembre-2016</td>\n",
       "      <td>40.679</td>\n",
       "      <td>-120.015</td>\n",
       "    </tr>\n",
       "    <tr>\n",
       "      <th>5f432048-d515-4bb5-9c94-62db451f88d4</th>\n",
       "      <td>15280</td>\n",
       "      <td>NaN</td>\n",
       "      <td>admin.</td>\n",
       "      <td>MARRIED</td>\n",
       "      <td>university.degree</td>\n",
       "      <td>NaN</td>\n",
       "      <td>0.0</td>\n",
       "      <td>0.0</td>\n",
       "      <td>cellular</td>\n",
       "      <td>674</td>\n",
       "      <td>3</td>\n",
       "      <td>999</td>\n",
       "      <td>0</td>\n",
       "      <td>NONEXISTENT</td>\n",
       "      <td>1.4</td>\n",
       "      <td>93,918</td>\n",
       "      <td>-42,7</td>\n",
       "      <td>4,958</td>\n",
       "      <td>5228,1</td>\n",
       "      <td>no</td>\n",
       "      <td>23-septiembre-2019</td>\n",
       "      <td>27.772</td>\n",
       "      <td>-117.518</td>\n",
       "    </tr>\n",
       "    <tr>\n",
       "      <th>993bbbd6-4dbc-4a40-a408-f91f8462bee6</th>\n",
       "      <td>27570</td>\n",
       "      <td>NaN</td>\n",
       "      <td>unemployed</td>\n",
       "      <td>SINGLE</td>\n",
       "      <td>university.degree</td>\n",
       "      <td>0.0</td>\n",
       "      <td>0.0</td>\n",
       "      <td>1.0</td>\n",
       "      <td>cellular</td>\n",
       "      <td>104</td>\n",
       "      <td>2</td>\n",
       "      <td>999</td>\n",
       "      <td>0</td>\n",
       "      <td>NONEXISTENT</td>\n",
       "      <td>-0.1</td>\n",
       "      <td>93,2</td>\n",
       "      <td>-42</td>\n",
       "      <td>4,021</td>\n",
       "      <td>5195,8</td>\n",
       "      <td>no</td>\n",
       "      <td>6-noviembre-2019</td>\n",
       "      <td>41.146</td>\n",
       "      <td>-105.026</td>\n",
       "    </tr>\n",
       "  </tbody>\n",
       "</table>\n",
       "</div>"
      ],
      "text/plain": [
       "                                      Unnamed: 0  age          job  marital  \\\n",
       "id_                                                                           \n",
       "cadadd4b-7ee5-4019-b13a-ca01bb67ca5b       15046  NaN  blue-collar   SINGLE   \n",
       "5f432048-d515-4bb5-9c94-62db451f88d4       15280  NaN       admin.  MARRIED   \n",
       "993bbbd6-4dbc-4a40-a408-f91f8462bee6       27570  NaN   unemployed   SINGLE   \n",
       "\n",
       "                                              education  default  housing  \\\n",
       "id_                                                                         \n",
       "cadadd4b-7ee5-4019-b13a-ca01bb67ca5b           basic.6y      0.0      1.0   \n",
       "5f432048-d515-4bb5-9c94-62db451f88d4  university.degree      NaN      0.0   \n",
       "993bbbd6-4dbc-4a40-a408-f91f8462bee6  university.degree      0.0      0.0   \n",
       "\n",
       "                                      loan   contact  duration  campaign  \\\n",
       "id_                                                                        \n",
       "cadadd4b-7ee5-4019-b13a-ca01bb67ca5b   0.0  cellular       391         2   \n",
       "5f432048-d515-4bb5-9c94-62db451f88d4   0.0  cellular       674         3   \n",
       "993bbbd6-4dbc-4a40-a408-f91f8462bee6   1.0  cellular       104         2   \n",
       "\n",
       "                                      pdays  previous     poutcome  \\\n",
       "id_                                                                  \n",
       "cadadd4b-7ee5-4019-b13a-ca01bb67ca5b    999         0  NONEXISTENT   \n",
       "5f432048-d515-4bb5-9c94-62db451f88d4    999         0  NONEXISTENT   \n",
       "993bbbd6-4dbc-4a40-a408-f91f8462bee6    999         0  NONEXISTENT   \n",
       "\n",
       "                                      emp.var.rate cons.price.idx  \\\n",
       "id_                                                                 \n",
       "cadadd4b-7ee5-4019-b13a-ca01bb67ca5b           1.4         93,918   \n",
       "5f432048-d515-4bb5-9c94-62db451f88d4           1.4         93,918   \n",
       "993bbbd6-4dbc-4a40-a408-f91f8462bee6          -0.1           93,2   \n",
       "\n",
       "                                     cons.conf.idx euribor3m nr.employed   y  \\\n",
       "id_                                                                            \n",
       "cadadd4b-7ee5-4019-b13a-ca01bb67ca5b         -42,7       NaN      5228,1  no   \n",
       "5f432048-d515-4bb5-9c94-62db451f88d4         -42,7     4,958      5228,1  no   \n",
       "993bbbd6-4dbc-4a40-a408-f91f8462bee6           -42     4,021      5195,8  no   \n",
       "\n",
       "                                                    date  latitude  longitude  \n",
       "id_                                                                            \n",
       "cadadd4b-7ee5-4019-b13a-ca01bb67ca5b  15-septiembre-2016    40.679   -120.015  \n",
       "5f432048-d515-4bb5-9c94-62db451f88d4  23-septiembre-2019    27.772   -117.518  \n",
       "993bbbd6-4dbc-4a40-a408-f91f8462bee6    6-noviembre-2019    41.146   -105.026  "
      ]
     },
     "execution_count": 596,
     "metadata": {},
     "output_type": "execute_result"
    }
   ],
   "source": [
    "# Ver últimas 3 filas\n",
    "df_bank.tail(3)"
   ]
  },
  {
   "cell_type": "code",
   "execution_count": 597,
   "metadata": {},
   "outputs": [
    {
     "data": {
      "text/html": [
       "<div>\n",
       "<style scoped>\n",
       "    .dataframe tbody tr th:only-of-type {\n",
       "        vertical-align: middle;\n",
       "    }\n",
       "\n",
       "    .dataframe tbody tr th {\n",
       "        vertical-align: top;\n",
       "    }\n",
       "\n",
       "    .dataframe thead th {\n",
       "        text-align: right;\n",
       "    }\n",
       "</style>\n",
       "<table border=\"1\" class=\"dataframe\">\n",
       "  <thead>\n",
       "    <tr style=\"text-align: right;\">\n",
       "      <th></th>\n",
       "      <th>Unnamed: 0</th>\n",
       "      <th>age</th>\n",
       "      <th>default</th>\n",
       "      <th>housing</th>\n",
       "      <th>loan</th>\n",
       "      <th>duration</th>\n",
       "      <th>campaign</th>\n",
       "      <th>pdays</th>\n",
       "      <th>previous</th>\n",
       "      <th>emp.var.rate</th>\n",
       "      <th>latitude</th>\n",
       "      <th>longitude</th>\n",
       "    </tr>\n",
       "  </thead>\n",
       "  <tbody>\n",
       "    <tr>\n",
       "      <th>count</th>\n",
       "      <td>43000.000000</td>\n",
       "      <td>37880.000000</td>\n",
       "      <td>34019.000000</td>\n",
       "      <td>41974.000000</td>\n",
       "      <td>41974.000000</td>\n",
       "      <td>43000.000000</td>\n",
       "      <td>43000.000000</td>\n",
       "      <td>43000.000000</td>\n",
       "      <td>43000.000000</td>\n",
       "      <td>43000.000000</td>\n",
       "      <td>43000.000000</td>\n",
       "      <td>43000.000000</td>\n",
       "    </tr>\n",
       "    <tr>\n",
       "      <th>mean</th>\n",
       "      <td>20651.099047</td>\n",
       "      <td>39.977112</td>\n",
       "      <td>0.000088</td>\n",
       "      <td>0.535998</td>\n",
       "      <td>0.155620</td>\n",
       "      <td>257.739279</td>\n",
       "      <td>2.567233</td>\n",
       "      <td>962.330953</td>\n",
       "      <td>0.174023</td>\n",
       "      <td>0.077128</td>\n",
       "      <td>36.856697</td>\n",
       "      <td>-95.939067</td>\n",
       "    </tr>\n",
       "    <tr>\n",
       "      <th>std</th>\n",
       "      <td>11868.770913</td>\n",
       "      <td>10.437957</td>\n",
       "      <td>0.009390</td>\n",
       "      <td>0.498708</td>\n",
       "      <td>0.362499</td>\n",
       "      <td>258.666033</td>\n",
       "      <td>2.772294</td>\n",
       "      <td>187.260394</td>\n",
       "      <td>0.497366</td>\n",
       "      <td>1.573898</td>\n",
       "      <td>7.225948</td>\n",
       "      <td>16.752282</td>\n",
       "    </tr>\n",
       "    <tr>\n",
       "      <th>min</th>\n",
       "      <td>0.000000</td>\n",
       "      <td>17.000000</td>\n",
       "      <td>0.000000</td>\n",
       "      <td>0.000000</td>\n",
       "      <td>0.000000</td>\n",
       "      <td>0.000000</td>\n",
       "      <td>1.000000</td>\n",
       "      <td>0.000000</td>\n",
       "      <td>0.000000</td>\n",
       "      <td>-3.400000</td>\n",
       "      <td>24.396000</td>\n",
       "      <td>-124.997000</td>\n",
       "    </tr>\n",
       "    <tr>\n",
       "      <th>25%</th>\n",
       "      <td>10381.750000</td>\n",
       "      <td>32.000000</td>\n",
       "      <td>0.000000</td>\n",
       "      <td>0.000000</td>\n",
       "      <td>0.000000</td>\n",
       "      <td>102.000000</td>\n",
       "      <td>1.000000</td>\n",
       "      <td>999.000000</td>\n",
       "      <td>0.000000</td>\n",
       "      <td>-1.800000</td>\n",
       "      <td>30.614750</td>\n",
       "      <td>-110.494250</td>\n",
       "    </tr>\n",
       "    <tr>\n",
       "      <th>50%</th>\n",
       "      <td>20642.500000</td>\n",
       "      <td>38.000000</td>\n",
       "      <td>0.000000</td>\n",
       "      <td>1.000000</td>\n",
       "      <td>0.000000</td>\n",
       "      <td>179.000000</td>\n",
       "      <td>2.000000</td>\n",
       "      <td>999.000000</td>\n",
       "      <td>0.000000</td>\n",
       "      <td>1.100000</td>\n",
       "      <td>36.761000</td>\n",
       "      <td>-95.899500</td>\n",
       "    </tr>\n",
       "    <tr>\n",
       "      <th>75%</th>\n",
       "      <td>30930.250000</td>\n",
       "      <td>47.000000</td>\n",
       "      <td>0.000000</td>\n",
       "      <td>1.000000</td>\n",
       "      <td>0.000000</td>\n",
       "      <td>319.000000</td>\n",
       "      <td>3.000000</td>\n",
       "      <td>999.000000</td>\n",
       "      <td>0.000000</td>\n",
       "      <td>1.400000</td>\n",
       "      <td>43.113250</td>\n",
       "      <td>-81.427750</td>\n",
       "    </tr>\n",
       "    <tr>\n",
       "      <th>max</th>\n",
       "      <td>41187.000000</td>\n",
       "      <td>98.000000</td>\n",
       "      <td>1.000000</td>\n",
       "      <td>1.000000</td>\n",
       "      <td>1.000000</td>\n",
       "      <td>4918.000000</td>\n",
       "      <td>56.000000</td>\n",
       "      <td>999.000000</td>\n",
       "      <td>7.000000</td>\n",
       "      <td>1.400000</td>\n",
       "      <td>49.384000</td>\n",
       "      <td>-66.937000</td>\n",
       "    </tr>\n",
       "  </tbody>\n",
       "</table>\n",
       "</div>"
      ],
      "text/plain": [
       "         Unnamed: 0           age       default       housing          loan  \\\n",
       "count  43000.000000  37880.000000  34019.000000  41974.000000  41974.000000   \n",
       "mean   20651.099047     39.977112      0.000088      0.535998      0.155620   \n",
       "std    11868.770913     10.437957      0.009390      0.498708      0.362499   \n",
       "min        0.000000     17.000000      0.000000      0.000000      0.000000   \n",
       "25%    10381.750000     32.000000      0.000000      0.000000      0.000000   \n",
       "50%    20642.500000     38.000000      0.000000      1.000000      0.000000   \n",
       "75%    30930.250000     47.000000      0.000000      1.000000      0.000000   \n",
       "max    41187.000000     98.000000      1.000000      1.000000      1.000000   \n",
       "\n",
       "           duration      campaign         pdays      previous  emp.var.rate  \\\n",
       "count  43000.000000  43000.000000  43000.000000  43000.000000  43000.000000   \n",
       "mean     257.739279      2.567233    962.330953      0.174023      0.077128   \n",
       "std      258.666033      2.772294    187.260394      0.497366      1.573898   \n",
       "min        0.000000      1.000000      0.000000      0.000000     -3.400000   \n",
       "25%      102.000000      1.000000    999.000000      0.000000     -1.800000   \n",
       "50%      179.000000      2.000000    999.000000      0.000000      1.100000   \n",
       "75%      319.000000      3.000000    999.000000      0.000000      1.400000   \n",
       "max     4918.000000     56.000000    999.000000      7.000000      1.400000   \n",
       "\n",
       "           latitude     longitude  \n",
       "count  43000.000000  43000.000000  \n",
       "mean      36.856697    -95.939067  \n",
       "std        7.225948     16.752282  \n",
       "min       24.396000   -124.997000  \n",
       "25%       30.614750   -110.494250  \n",
       "50%       36.761000    -95.899500  \n",
       "75%       43.113250    -81.427750  \n",
       "max       49.384000    -66.937000  "
      ]
     },
     "execution_count": 597,
     "metadata": {},
     "output_type": "execute_result"
    }
   ],
   "source": [
    "# Ver estadísticas generales\n",
    "df_bank.describe()"
   ]
  },
  {
   "cell_type": "code",
   "execution_count": 598,
   "metadata": {},
   "outputs": [
    {
     "name": "stdout",
     "output_type": "stream",
     "text": [
      "<class 'pandas.core.frame.DataFrame'>\n",
      "Index: 43000 entries, 089b39d8-e4d0-461b-87d4-814d71e0e079 to 993bbbd6-4dbc-4a40-a408-f91f8462bee6\n",
      "Data columns (total 23 columns):\n",
      " #   Column          Non-Null Count  Dtype  \n",
      "---  ------          --------------  -----  \n",
      " 0   Unnamed: 0      43000 non-null  int64  \n",
      " 1   age             37880 non-null  float64\n",
      " 2   job             42655 non-null  object \n",
      " 3   marital         42915 non-null  object \n",
      " 4   education       41193 non-null  object \n",
      " 5   default         34019 non-null  float64\n",
      " 6   housing         41974 non-null  float64\n",
      " 7   loan            41974 non-null  float64\n",
      " 8   contact         43000 non-null  object \n",
      " 9   duration        43000 non-null  int64  \n",
      " 10  campaign        43000 non-null  int64  \n",
      " 11  pdays           43000 non-null  int64  \n",
      " 12  previous        43000 non-null  int64  \n",
      " 13  poutcome        43000 non-null  object \n",
      " 14  emp.var.rate    43000 non-null  float64\n",
      " 15  cons.price.idx  42529 non-null  object \n",
      " 16  cons.conf.idx   43000 non-null  object \n",
      " 17  euribor3m       33744 non-null  object \n",
      " 18  nr.employed     43000 non-null  object \n",
      " 19  y               43000 non-null  object \n",
      " 20  date            42752 non-null  object \n",
      " 21  latitude        43000 non-null  float64\n",
      " 22  longitude       43000 non-null  float64\n",
      "dtypes: float64(7), int64(5), object(11)\n",
      "memory usage: 7.9+ MB\n"
     ]
    }
   ],
   "source": [
    "# Ver detalles\n",
    "df_bank.info()"
   ]
  },
  {
   "cell_type": "code",
   "execution_count": 599,
   "metadata": {},
   "outputs": [],
   "source": [
    "# 🔸STEP 3: DATA REDUCTION\n",
    "    # Eliminación de columnas y filas irrelevantes\n",
    "    # Renombrar columnas\n",
    "    # Identificación de columnas duplicadas\n",
    "    # Creación de características\n",
    "    # Normalizar datos "
   ]
  },
  {
   "cell_type": "code",
   "execution_count": 600,
   "metadata": {},
   "outputs": [],
   "source": [
    "# 3.1. Eliminación de columnas y columnas irrelevantes de los dataframes 'df_bank' y 'df_customer' \n",
    "df_bank_clean = df_bank.drop(columns=['Unnamed: 0','marital','default','housing','loan','pdays','previous','poutcome'\n",
    "                                      ,'cons.price.idx','cons.conf.idx','euribor3m','date','latitude','longitude'])"
   ]
  },
  {
   "cell_type": "code",
   "execution_count": 601,
   "metadata": {},
   "outputs": [
    {
     "data": {
      "text/plain": [
       "Index(['age', 'job', 'education', 'contact', 'duration', 'campaign',\n",
       "       'emp.var.rate', 'nr.employed', 'y'],\n",
       "      dtype='object')"
      ]
     },
     "execution_count": 601,
     "metadata": {},
     "output_type": "execute_result"
    }
   ],
   "source": [
    "df_bank_clean.columns"
   ]
  },
  {
   "cell_type": "code",
   "execution_count": 602,
   "metadata": {},
   "outputs": [],
   "source": [
    "df_customer_details_cln = df_customer_details.drop(columns=['Unnamed: 0','Kidhome', 'Teenhome',\n",
    "                     'NumWebVisitsMonth'])"
   ]
  },
  {
   "cell_type": "code",
   "execution_count": 603,
   "metadata": {},
   "outputs": [],
   "source": [
    "# 3.2. Renombrar columnas\n",
    "df_bank_clean = df_bank_clean.rename(columns={'age':'Customer age',\n",
    "                              'job':'Job',\n",
    "                              'education':'Education',\n",
    "                              'contact':'Contact method',\n",
    "                              'duration':'Last int duration',\n",
    "                              'campaign':'Interactions in campaign',\n",
    "                              'emp.var.rate':'Employment variation rate',\n",
    "                              'nr.employed':'Employees number',\n",
    "                              'y':'Product/service subscription',\n",
    "                              'id_':'ID'\n",
    "                        })"
   ]
  },
  {
   "cell_type": "code",
   "execution_count": 604,
   "metadata": {},
   "outputs": [],
   "source": [
    "df_customer_details_cln = df_customer_details_cln.rename(columns={'Income':'Customer annual income',\n",
    "                                       'Dt_Customer':'Registration date',\n",
    "                                       'bank_registration_year':'Registration year'})"
   ]
  },
  {
   "cell_type": "code",
   "execution_count": 605,
   "metadata": {},
   "outputs": [
    {
     "data": {
      "text/plain": [
       "Customer age                    5120\n",
       "Job                              345\n",
       "Education                       1807\n",
       "Contact method                     0\n",
       "Last int duration                  0\n",
       "Interactions in campaign           0\n",
       "Employment variation rate          0\n",
       "Employees number                   0\n",
       "Product/service subscription       0\n",
       "dtype: int64"
      ]
     },
     "execution_count": 605,
     "metadata": {},
     "output_type": "execute_result"
    }
   ],
   "source": [
    "# 3.3. Identificar valores nulos y manejar missing values\n",
    "df_bank_clean.isna().sum()"
   ]
  },
  {
   "cell_type": "code",
   "execution_count": 606,
   "metadata": {},
   "outputs": [
    {
     "data": {
      "text/plain": [
       "Customer age                    11.906977\n",
       "Job                              0.802326\n",
       "Education                        4.202326\n",
       "Contact method                   0.000000\n",
       "Last int duration                0.000000\n",
       "Interactions in campaign         0.000000\n",
       "Employment variation rate        0.000000\n",
       "Employees number                 0.000000\n",
       "Product/service subscription     0.000000\n",
       "dtype: float64"
      ]
     },
     "execution_count": 606,
     "metadata": {},
     "output_type": "execute_result"
    }
   ],
   "source": [
    "# Para ver el porcentaje de nulos en cada columna del dataframe\n",
    "(df_bank_clean.isnull().sum()/(len(df_bank_clean)))*100"
   ]
  },
  {
   "cell_type": "code",
   "execution_count": 607,
   "metadata": {},
   "outputs": [
    {
     "data": {
      "text/plain": [
       "Customer annual income    0.0\n",
       "Registration date         0.0\n",
       "Registration year         0.0\n",
       "dtype: float64"
      ]
     },
     "execution_count": 607,
     "metadata": {},
     "output_type": "execute_result"
    }
   ],
   "source": [
    "(df_customer_details_cln.isnull().sum()/(len(df_customer_details_cln)))*100"
   ]
  },
  {
   "cell_type": "code",
   "execution_count": 608,
   "metadata": {},
   "outputs": [
    {
     "name": "stderr",
     "output_type": "stream",
     "text": [
      "C:\\Users\\pooo_\\AppData\\Local\\Temp\\ipykernel_8452\\701091345.py:2: FutureWarning: A value is trying to be set on a copy of a DataFrame or Series through chained assignment using an inplace method.\n",
      "The behavior will change in pandas 3.0. This inplace method will never work because the intermediate object on which we are setting values always behaves as a copy.\n",
      "\n",
      "For example, when doing 'df[col].method(value, inplace=True)', try using 'df.method({col: value}, inplace=True)' or df[col] = df[col].method(value) instead, to perform the operation inplace on the original object.\n",
      "\n",
      "\n",
      "  df_bank_clean['Customer age'].fillna(df_bank_clean['Customer age'].median(), inplace=True)\n"
     ]
    }
   ],
   "source": [
    "# Los nulos de 'Age' los sustituyo por la mediana\n",
    "df_bank_clean['Customer age'].fillna(df_bank_clean['Customer age'].median(), inplace=True)"
   ]
  },
  {
   "cell_type": "code",
   "execution_count": 609,
   "metadata": {},
   "outputs": [
    {
     "name": "stderr",
     "output_type": "stream",
     "text": [
      "C:\\Users\\pooo_\\AppData\\Local\\Temp\\ipykernel_8452\\2403905030.py:3: FutureWarning: A value is trying to be set on a copy of a DataFrame or Series through chained assignment using an inplace method.\n",
      "The behavior will change in pandas 3.0. This inplace method will never work because the intermediate object on which we are setting values always behaves as a copy.\n",
      "\n",
      "For example, when doing 'df[col].method(value, inplace=True)', try using 'df.method({col: value}, inplace=True)' or df[col] = df[col].method(value) instead, to perform the operation inplace on the original object.\n",
      "\n",
      "\n",
      "  df_bank_clean['Job'].fillna(df_bank_clean['Job'].mode()[0], inplace=True)\n"
     ]
    }
   ],
   "source": [
    "# Los nulos de 'Job' los sustituyo por la moda\n",
    "\n",
    "df_bank_clean['Job'].fillna(df_bank_clean['Job'].mode()[0], inplace=True)"
   ]
  },
  {
   "cell_type": "code",
   "execution_count": 610,
   "metadata": {},
   "outputs": [
    {
     "name": "stderr",
     "output_type": "stream",
     "text": [
      "C:\\Users\\pooo_\\AppData\\Local\\Temp\\ipykernel_8452\\2764473026.py:3: FutureWarning: A value is trying to be set on a copy of a DataFrame or Series through chained assignment using an inplace method.\n",
      "The behavior will change in pandas 3.0. This inplace method will never work because the intermediate object on which we are setting values always behaves as a copy.\n",
      "\n",
      "For example, when doing 'df[col].method(value, inplace=True)', try using 'df.method({col: value}, inplace=True)' or df[col] = df[col].method(value) instead, to perform the operation inplace on the original object.\n",
      "\n",
      "\n",
      "  df_bank_clean['Education'].fillna('Desconocido', inplace=True)\n"
     ]
    }
   ],
   "source": [
    "# Los nulos de 'Education' los sustituyo por 'Desconocido'\n",
    "\n",
    "df_bank_clean['Education'].fillna('Desconocido', inplace=True)"
   ]
  },
  {
   "cell_type": "code",
   "execution_count": 611,
   "metadata": {},
   "outputs": [],
   "source": [
    "# 3.4. Eliminar duplicados \n",
    "df_bank_clean = df_bank_clean.drop_duplicates()"
   ]
  },
  {
   "cell_type": "code",
   "execution_count": 612,
   "metadata": {},
   "outputs": [
    {
     "data": {
      "text/html": [
       "<div>\n",
       "<style scoped>\n",
       "    .dataframe tbody tr th:only-of-type {\n",
       "        vertical-align: middle;\n",
       "    }\n",
       "\n",
       "    .dataframe tbody tr th {\n",
       "        vertical-align: top;\n",
       "    }\n",
       "\n",
       "    .dataframe thead th {\n",
       "        text-align: right;\n",
       "    }\n",
       "</style>\n",
       "<table border=\"1\" class=\"dataframe\">\n",
       "  <thead>\n",
       "    <tr style=\"text-align: right;\">\n",
       "      <th></th>\n",
       "      <th>Customer age</th>\n",
       "      <th>Job</th>\n",
       "      <th>Education</th>\n",
       "      <th>Contact method</th>\n",
       "      <th>Last int duration</th>\n",
       "      <th>Interactions in campaign</th>\n",
       "      <th>Employment variation rate</th>\n",
       "      <th>Employees number</th>\n",
       "      <th>Product/service subscription</th>\n",
       "    </tr>\n",
       "    <tr>\n",
       "      <th>id_</th>\n",
       "      <th></th>\n",
       "      <th></th>\n",
       "      <th></th>\n",
       "      <th></th>\n",
       "      <th></th>\n",
       "      <th></th>\n",
       "      <th></th>\n",
       "      <th></th>\n",
       "      <th></th>\n",
       "    </tr>\n",
       "  </thead>\n",
       "  <tbody>\n",
       "    <tr>\n",
       "      <th>089b39d8-e4d0-461b-87d4-814d71e0e079</th>\n",
       "      <td>38.0</td>\n",
       "      <td>housemaid</td>\n",
       "      <td>basic.4y</td>\n",
       "      <td>telephone</td>\n",
       "      <td>261</td>\n",
       "      <td>1</td>\n",
       "      <td>1.1</td>\n",
       "      <td>5191</td>\n",
       "      <td>no</td>\n",
       "    </tr>\n",
       "    <tr>\n",
       "      <th>e9d37224-cb6f-4942-98d7-46672963d097</th>\n",
       "      <td>57.0</td>\n",
       "      <td>services</td>\n",
       "      <td>high.school</td>\n",
       "      <td>telephone</td>\n",
       "      <td>149</td>\n",
       "      <td>1</td>\n",
       "      <td>1.1</td>\n",
       "      <td>5191</td>\n",
       "      <td>no</td>\n",
       "    </tr>\n",
       "    <tr>\n",
       "      <th>3f9f49b5-e410-4948-bf6e-f9244f04918b</th>\n",
       "      <td>37.0</td>\n",
       "      <td>services</td>\n",
       "      <td>high.school</td>\n",
       "      <td>telephone</td>\n",
       "      <td>226</td>\n",
       "      <td>1</td>\n",
       "      <td>1.1</td>\n",
       "      <td>5191</td>\n",
       "      <td>no</td>\n",
       "    </tr>\n",
       "    <tr>\n",
       "      <th>9991fafb-4447-451a-8be2-b0df6098d13e</th>\n",
       "      <td>40.0</td>\n",
       "      <td>admin.</td>\n",
       "      <td>basic.6y</td>\n",
       "      <td>telephone</td>\n",
       "      <td>151</td>\n",
       "      <td>1</td>\n",
       "      <td>1.1</td>\n",
       "      <td>5191</td>\n",
       "      <td>no</td>\n",
       "    </tr>\n",
       "    <tr>\n",
       "      <th>eca60b76-70b6-4077-80ba-bc52e8ebb0eb</th>\n",
       "      <td>56.0</td>\n",
       "      <td>services</td>\n",
       "      <td>high.school</td>\n",
       "      <td>telephone</td>\n",
       "      <td>307</td>\n",
       "      <td>1</td>\n",
       "      <td>1.1</td>\n",
       "      <td>5191</td>\n",
       "      <td>no</td>\n",
       "    </tr>\n",
       "    <tr>\n",
       "      <th>...</th>\n",
       "      <td>...</td>\n",
       "      <td>...</td>\n",
       "      <td>...</td>\n",
       "      <td>...</td>\n",
       "      <td>...</td>\n",
       "      <td>...</td>\n",
       "      <td>...</td>\n",
       "      <td>...</td>\n",
       "      <td>...</td>\n",
       "    </tr>\n",
       "    <tr>\n",
       "      <th>9d2f38f5-ce04-406b-b8b7-b77219934a45</th>\n",
       "      <td>38.0</td>\n",
       "      <td>management</td>\n",
       "      <td>basic.9y</td>\n",
       "      <td>telephone</td>\n",
       "      <td>224</td>\n",
       "      <td>3</td>\n",
       "      <td>1.1</td>\n",
       "      <td>5191</td>\n",
       "      <td>no</td>\n",
       "    </tr>\n",
       "    <tr>\n",
       "      <th>29b41e0a-0690-457f-be7f-950945897c02</th>\n",
       "      <td>42.0</td>\n",
       "      <td>housemaid</td>\n",
       "      <td>high.school</td>\n",
       "      <td>cellular</td>\n",
       "      <td>95</td>\n",
       "      <td>3</td>\n",
       "      <td>-1.8</td>\n",
       "      <td>5099,1</td>\n",
       "      <td>no</td>\n",
       "    </tr>\n",
       "    <tr>\n",
       "      <th>263867fd-76f7-4bfa-8ce5-4d925121eacd</th>\n",
       "      <td>59.0</td>\n",
       "      <td>services</td>\n",
       "      <td>high.school</td>\n",
       "      <td>telephone</td>\n",
       "      <td>231</td>\n",
       "      <td>1</td>\n",
       "      <td>1.1</td>\n",
       "      <td>5191</td>\n",
       "      <td>no</td>\n",
       "    </tr>\n",
       "    <tr>\n",
       "      <th>d9cc9811-c081-41b5-b56f-cf5d01a84d54</th>\n",
       "      <td>38.0</td>\n",
       "      <td>blue-collar</td>\n",
       "      <td>basic.4y</td>\n",
       "      <td>cellular</td>\n",
       "      <td>197</td>\n",
       "      <td>4</td>\n",
       "      <td>-0.1</td>\n",
       "      <td>5195,8</td>\n",
       "      <td>no</td>\n",
       "    </tr>\n",
       "    <tr>\n",
       "      <th>13351101-1058-4284-be71-d4804d87c01f</th>\n",
       "      <td>31.0</td>\n",
       "      <td>blue-collar</td>\n",
       "      <td>basic.9y</td>\n",
       "      <td>telephone</td>\n",
       "      <td>143</td>\n",
       "      <td>1</td>\n",
       "      <td>1.1</td>\n",
       "      <td>5191</td>\n",
       "      <td>no</td>\n",
       "    </tr>\n",
       "  </tbody>\n",
       "</table>\n",
       "<p>40756 rows × 9 columns</p>\n",
       "</div>"
      ],
      "text/plain": [
       "                                      Customer age          Job    Education  \\\n",
       "id_                                                                            \n",
       "089b39d8-e4d0-461b-87d4-814d71e0e079          38.0    housemaid     basic.4y   \n",
       "e9d37224-cb6f-4942-98d7-46672963d097          57.0     services  high.school   \n",
       "3f9f49b5-e410-4948-bf6e-f9244f04918b          37.0     services  high.school   \n",
       "9991fafb-4447-451a-8be2-b0df6098d13e          40.0       admin.     basic.6y   \n",
       "eca60b76-70b6-4077-80ba-bc52e8ebb0eb          56.0     services  high.school   \n",
       "...                                            ...          ...          ...   \n",
       "9d2f38f5-ce04-406b-b8b7-b77219934a45          38.0   management     basic.9y   \n",
       "29b41e0a-0690-457f-be7f-950945897c02          42.0    housemaid  high.school   \n",
       "263867fd-76f7-4bfa-8ce5-4d925121eacd          59.0     services  high.school   \n",
       "d9cc9811-c081-41b5-b56f-cf5d01a84d54          38.0  blue-collar     basic.4y   \n",
       "13351101-1058-4284-be71-d4804d87c01f          31.0  blue-collar     basic.9y   \n",
       "\n",
       "                                     Contact method  Last int duration  \\\n",
       "id_                                                                      \n",
       "089b39d8-e4d0-461b-87d4-814d71e0e079      telephone                261   \n",
       "e9d37224-cb6f-4942-98d7-46672963d097      telephone                149   \n",
       "3f9f49b5-e410-4948-bf6e-f9244f04918b      telephone                226   \n",
       "9991fafb-4447-451a-8be2-b0df6098d13e      telephone                151   \n",
       "eca60b76-70b6-4077-80ba-bc52e8ebb0eb      telephone                307   \n",
       "...                                             ...                ...   \n",
       "9d2f38f5-ce04-406b-b8b7-b77219934a45      telephone                224   \n",
       "29b41e0a-0690-457f-be7f-950945897c02       cellular                 95   \n",
       "263867fd-76f7-4bfa-8ce5-4d925121eacd      telephone                231   \n",
       "d9cc9811-c081-41b5-b56f-cf5d01a84d54       cellular                197   \n",
       "13351101-1058-4284-be71-d4804d87c01f      telephone                143   \n",
       "\n",
       "                                      Interactions in campaign  \\\n",
       "id_                                                              \n",
       "089b39d8-e4d0-461b-87d4-814d71e0e079                         1   \n",
       "e9d37224-cb6f-4942-98d7-46672963d097                         1   \n",
       "3f9f49b5-e410-4948-bf6e-f9244f04918b                         1   \n",
       "9991fafb-4447-451a-8be2-b0df6098d13e                         1   \n",
       "eca60b76-70b6-4077-80ba-bc52e8ebb0eb                         1   \n",
       "...                                                        ...   \n",
       "9d2f38f5-ce04-406b-b8b7-b77219934a45                         3   \n",
       "29b41e0a-0690-457f-be7f-950945897c02                         3   \n",
       "263867fd-76f7-4bfa-8ce5-4d925121eacd                         1   \n",
       "d9cc9811-c081-41b5-b56f-cf5d01a84d54                         4   \n",
       "13351101-1058-4284-be71-d4804d87c01f                         1   \n",
       "\n",
       "                                      Employment variation rate  \\\n",
       "id_                                                               \n",
       "089b39d8-e4d0-461b-87d4-814d71e0e079                        1.1   \n",
       "e9d37224-cb6f-4942-98d7-46672963d097                        1.1   \n",
       "3f9f49b5-e410-4948-bf6e-f9244f04918b                        1.1   \n",
       "9991fafb-4447-451a-8be2-b0df6098d13e                        1.1   \n",
       "eca60b76-70b6-4077-80ba-bc52e8ebb0eb                        1.1   \n",
       "...                                                         ...   \n",
       "9d2f38f5-ce04-406b-b8b7-b77219934a45                        1.1   \n",
       "29b41e0a-0690-457f-be7f-950945897c02                       -1.8   \n",
       "263867fd-76f7-4bfa-8ce5-4d925121eacd                        1.1   \n",
       "d9cc9811-c081-41b5-b56f-cf5d01a84d54                       -0.1   \n",
       "13351101-1058-4284-be71-d4804d87c01f                        1.1   \n",
       "\n",
       "                                     Employees number  \\\n",
       "id_                                                     \n",
       "089b39d8-e4d0-461b-87d4-814d71e0e079             5191   \n",
       "e9d37224-cb6f-4942-98d7-46672963d097             5191   \n",
       "3f9f49b5-e410-4948-bf6e-f9244f04918b             5191   \n",
       "9991fafb-4447-451a-8be2-b0df6098d13e             5191   \n",
       "eca60b76-70b6-4077-80ba-bc52e8ebb0eb             5191   \n",
       "...                                               ...   \n",
       "9d2f38f5-ce04-406b-b8b7-b77219934a45             5191   \n",
       "29b41e0a-0690-457f-be7f-950945897c02           5099,1   \n",
       "263867fd-76f7-4bfa-8ce5-4d925121eacd             5191   \n",
       "d9cc9811-c081-41b5-b56f-cf5d01a84d54           5195,8   \n",
       "13351101-1058-4284-be71-d4804d87c01f             5191   \n",
       "\n",
       "                                     Product/service subscription  \n",
       "id_                                                                \n",
       "089b39d8-e4d0-461b-87d4-814d71e0e079                           no  \n",
       "e9d37224-cb6f-4942-98d7-46672963d097                           no  \n",
       "3f9f49b5-e410-4948-bf6e-f9244f04918b                           no  \n",
       "9991fafb-4447-451a-8be2-b0df6098d13e                           no  \n",
       "eca60b76-70b6-4077-80ba-bc52e8ebb0eb                           no  \n",
       "...                                                           ...  \n",
       "9d2f38f5-ce04-406b-b8b7-b77219934a45                           no  \n",
       "29b41e0a-0690-457f-be7f-950945897c02                           no  \n",
       "263867fd-76f7-4bfa-8ce5-4d925121eacd                           no  \n",
       "d9cc9811-c081-41b5-b56f-cf5d01a84d54                           no  \n",
       "13351101-1058-4284-be71-d4804d87c01f                           no  \n",
       "\n",
       "[40756 rows x 9 columns]"
      ]
     },
     "execution_count": 612,
     "metadata": {},
     "output_type": "execute_result"
    }
   ],
   "source": [
    "df_bank_clean"
   ]
  },
  {
   "cell_type": "code",
   "execution_count": 613,
   "metadata": {},
   "outputs": [],
   "source": [
    "df_customer_details_cln = df_customer_details_cln.drop_duplicates()"
   ]
  },
  {
   "cell_type": "code",
   "execution_count": 614,
   "metadata": {},
   "outputs": [],
   "source": [
    "# 3.4. Normalizar datos\n",
    "\n",
    "# Convertir a int la edad\n",
    "def cambiar_a_int(num):\n",
    "    \"\"\"Transforma numero en tipo int\n",
    "\n",
    "    Args:\n",
    "        num (float or int): numero de argumento\n",
    "\n",
    "    Returns:\n",
    "        int: devuelve un numero transformado en int\n",
    "    \"\"\"\n",
    "    return int(num)\n",
    "\n",
    "\n",
    "df_bank_clean['Customer age'] = df_bank_clean['Customer age'].apply(cambiar_a_int)\n"
   ]
  },
  {
   "cell_type": "code",
   "execution_count": 615,
   "metadata": {},
   "outputs": [
    {
     "data": {
      "text/plain": [
       "array(['basic.4y', 'high.school', 'high.school', ..., 'high.school',\n",
       "       'basic.4y', 'basic.9y'], shape=(40756,), dtype=object)"
      ]
     },
     "execution_count": 615,
     "metadata": {},
     "output_type": "execute_result"
    }
   ],
   "source": [
    "df_bank_clean['Education'].values"
   ]
  },
  {
   "cell_type": "code",
   "execution_count": 616,
   "metadata": {},
   "outputs": [
    {
     "name": "stdout",
     "output_type": "stream",
     "text": [
      "['basic.4y' 'high.school' 'basic.6y' 'basic.9y' 'professional.course'\n",
      " 'Desconocido' 'university.degree' 'illiterate']\n"
     ]
    }
   ],
   "source": [
    "# Convertir a palabras legibles el nivel educativo\n",
    "print(df_bank_clean['Education'].unique())\n",
    "\n",
    "education_mapping = {'basic.4y':'Basic 4 years', 'high.school':'High School', 'basic.6y':'Basic 6 years',\n",
    "                     'basic.9y':'Basic 9 years', 'professional.course':'Professional Course',\n",
    "                     'university.degree':'University Degree', 'illiterate':'Illiterate'}\n",
    "\n",
    "\n",
    "df_bank_clean['Education'] = df_bank_clean['Education'].replace(education_mapping)"
   ]
  },
  {
   "cell_type": "code",
   "execution_count": 617,
   "metadata": {},
   "outputs": [],
   "source": [
    "#Convertir 'Employees number' a int\n",
    "\n",
    "# 1. Reemplazar la coma por un punto\n",
    "df_bank_clean['Employees number'] = df_bank_clean['Employees number'].str.replace(',', '.')\n",
    "\n",
    "# 2. Convertir a número decimal (float)\n",
    "df_bank_clean['Employees number'] = pd.to_numeric(df_bank_clean['Employees number'], errors='coerce')\n",
    "\n",
    "# 3. Eliminar los valores NaN que se han podido generar.\n",
    "df_bank_clean = df_bank_clean.dropna(subset=['Employees number'])\n",
    "\n",
    "# 4. Convertir a entero (int)\n",
    "df_bank_clean['Employees number'] = df_bank_clean['Employees number'].astype('int')\n"
   ]
  },
  {
   "cell_type": "code",
   "execution_count": 618,
   "metadata": {},
   "outputs": [],
   "source": [
    "#Convertir otras columnas con tipo object a category\n",
    "\n",
    "df_bank_clean['Education'] = df_bank_clean['Education'].astype('category')\n",
    "\n",
    "df_bank_clean['Job'] = df_bank_clean['Job'].astype('category')\n",
    "\n",
    "df_bank_clean['Contact method'] = df_bank_clean['Contact method'].astype('category')\n"
   ]
  },
  {
   "cell_type": "code",
   "execution_count": 619,
   "metadata": {},
   "outputs": [],
   "source": [
    "#Convertir a numerico los valores de la columna 'Product/service subscription '\n",
    "\n",
    "df_bank_clean[\"Product/service subscription\"] = df_bank_clean[\"Product/service subscription\"].map({\"yes\": 1, \"no\": 0})\n"
   ]
  },
  {
   "cell_type": "code",
   "execution_count": 620,
   "metadata": {},
   "outputs": [],
   "source": [
    "df_customer_details_cln['Registration year'] = df_customer_details_cln['Registration year'].astype('int')"
   ]
  },
  {
   "cell_type": "code",
   "execution_count": 621,
   "metadata": {},
   "outputs": [
    {
     "data": {
      "text/plain": [
       "Customer annual income             int64\n",
       "Registration date         datetime64[ns]\n",
       "Registration year                  int64\n",
       "dtype: object"
      ]
     },
     "execution_count": 621,
     "metadata": {},
     "output_type": "execute_result"
    }
   ],
   "source": [
    "df_customer_details_cln.dtypes"
   ]
  },
  {
   "cell_type": "code",
   "execution_count": 622,
   "metadata": {},
   "outputs": [],
   "source": [
    "# 🔸STEP 4: DATASETS COMBINATION \n",
    "    # Combinación de Datasets\n",
    "    # Limpieza de nulos y duplicados\n",
    "    # Generar nuevas columnas"
   ]
  },
  {
   "cell_type": "code",
   "execution_count": 623,
   "metadata": {},
   "outputs": [],
   "source": [
    "#Combinación de los dos DATAFRAMES\n",
    "df_merged = df_bank_clean.merge(df_customer_details_cln, left_on='id_', right_on='ID', how='left')"
   ]
  },
  {
   "cell_type": "code",
   "execution_count": 625,
   "metadata": {},
   "outputs": [
    {
     "ename": "IntCastingNaNError",
     "evalue": "Cannot convert non-finite values (NA or inf) to integer",
     "output_type": "error",
     "traceback": [
      "\u001b[1;31m---------------------------------------------------------------------------\u001b[0m",
      "\u001b[1;31mIntCastingNaNError\u001b[0m                        Traceback (most recent call last)",
      "Cell \u001b[1;32mIn[625], line 1\u001b[0m\n\u001b[1;32m----> 1\u001b[0m df_merged[\u001b[38;5;124m'\u001b[39m\u001b[38;5;124mRegistration year\u001b[39m\u001b[38;5;124m'\u001b[39m] \u001b[38;5;241m=\u001b[39m \u001b[43mdf_merged\u001b[49m\u001b[43m[\u001b[49m\u001b[38;5;124;43m'\u001b[39;49m\u001b[38;5;124;43mRegistration year\u001b[39;49m\u001b[38;5;124;43m'\u001b[39;49m\u001b[43m]\u001b[49m\u001b[38;5;241;43m.\u001b[39;49m\u001b[43mastype\u001b[49m\u001b[43m(\u001b[49m\u001b[38;5;124;43m'\u001b[39;49m\u001b[38;5;124;43mint\u001b[39;49m\u001b[38;5;124;43m'\u001b[39;49m\u001b[43m)\u001b[49m\n",
      "File \u001b[1;32mc:\\Users\\pooo_\\AppData\\Local\\Programs\\Python\\Python313\\Lib\\site-packages\\pandas\\core\\generic.py:6643\u001b[0m, in \u001b[0;36mNDFrame.astype\u001b[1;34m(self, dtype, copy, errors)\u001b[0m\n\u001b[0;32m   6637\u001b[0m     results \u001b[38;5;241m=\u001b[39m [\n\u001b[0;32m   6638\u001b[0m         ser\u001b[38;5;241m.\u001b[39mastype(dtype, copy\u001b[38;5;241m=\u001b[39mcopy, errors\u001b[38;5;241m=\u001b[39merrors) \u001b[38;5;28;01mfor\u001b[39;00m _, ser \u001b[38;5;129;01min\u001b[39;00m \u001b[38;5;28mself\u001b[39m\u001b[38;5;241m.\u001b[39mitems()\n\u001b[0;32m   6639\u001b[0m     ]\n\u001b[0;32m   6641\u001b[0m \u001b[38;5;28;01melse\u001b[39;00m:\n\u001b[0;32m   6642\u001b[0m     \u001b[38;5;66;03m# else, only a single dtype is given\u001b[39;00m\n\u001b[1;32m-> 6643\u001b[0m     new_data \u001b[38;5;241m=\u001b[39m \u001b[38;5;28;43mself\u001b[39;49m\u001b[38;5;241;43m.\u001b[39;49m\u001b[43m_mgr\u001b[49m\u001b[38;5;241;43m.\u001b[39;49m\u001b[43mastype\u001b[49m\u001b[43m(\u001b[49m\u001b[43mdtype\u001b[49m\u001b[38;5;241;43m=\u001b[39;49m\u001b[43mdtype\u001b[49m\u001b[43m,\u001b[49m\u001b[43m \u001b[49m\u001b[43mcopy\u001b[49m\u001b[38;5;241;43m=\u001b[39;49m\u001b[43mcopy\u001b[49m\u001b[43m,\u001b[49m\u001b[43m \u001b[49m\u001b[43merrors\u001b[49m\u001b[38;5;241;43m=\u001b[39;49m\u001b[43merrors\u001b[49m\u001b[43m)\u001b[49m\n\u001b[0;32m   6644\u001b[0m     res \u001b[38;5;241m=\u001b[39m \u001b[38;5;28mself\u001b[39m\u001b[38;5;241m.\u001b[39m_constructor_from_mgr(new_data, axes\u001b[38;5;241m=\u001b[39mnew_data\u001b[38;5;241m.\u001b[39maxes)\n\u001b[0;32m   6645\u001b[0m     \u001b[38;5;28;01mreturn\u001b[39;00m res\u001b[38;5;241m.\u001b[39m__finalize__(\u001b[38;5;28mself\u001b[39m, method\u001b[38;5;241m=\u001b[39m\u001b[38;5;124m\"\u001b[39m\u001b[38;5;124mastype\u001b[39m\u001b[38;5;124m\"\u001b[39m)\n",
      "File \u001b[1;32mc:\\Users\\pooo_\\AppData\\Local\\Programs\\Python\\Python313\\Lib\\site-packages\\pandas\\core\\internals\\managers.py:430\u001b[0m, in \u001b[0;36mBaseBlockManager.astype\u001b[1;34m(self, dtype, copy, errors)\u001b[0m\n\u001b[0;32m    427\u001b[0m \u001b[38;5;28;01melif\u001b[39;00m using_copy_on_write():\n\u001b[0;32m    428\u001b[0m     copy \u001b[38;5;241m=\u001b[39m \u001b[38;5;28;01mFalse\u001b[39;00m\n\u001b[1;32m--> 430\u001b[0m \u001b[38;5;28;01mreturn\u001b[39;00m \u001b[38;5;28;43mself\u001b[39;49m\u001b[38;5;241;43m.\u001b[39;49m\u001b[43mapply\u001b[49m\u001b[43m(\u001b[49m\n\u001b[0;32m    431\u001b[0m \u001b[43m    \u001b[49m\u001b[38;5;124;43m\"\u001b[39;49m\u001b[38;5;124;43mastype\u001b[39;49m\u001b[38;5;124;43m\"\u001b[39;49m\u001b[43m,\u001b[49m\n\u001b[0;32m    432\u001b[0m \u001b[43m    \u001b[49m\u001b[43mdtype\u001b[49m\u001b[38;5;241;43m=\u001b[39;49m\u001b[43mdtype\u001b[49m\u001b[43m,\u001b[49m\n\u001b[0;32m    433\u001b[0m \u001b[43m    \u001b[49m\u001b[43mcopy\u001b[49m\u001b[38;5;241;43m=\u001b[39;49m\u001b[43mcopy\u001b[49m\u001b[43m,\u001b[49m\n\u001b[0;32m    434\u001b[0m \u001b[43m    \u001b[49m\u001b[43merrors\u001b[49m\u001b[38;5;241;43m=\u001b[39;49m\u001b[43merrors\u001b[49m\u001b[43m,\u001b[49m\n\u001b[0;32m    435\u001b[0m \u001b[43m    \u001b[49m\u001b[43musing_cow\u001b[49m\u001b[38;5;241;43m=\u001b[39;49m\u001b[43musing_copy_on_write\u001b[49m\u001b[43m(\u001b[49m\u001b[43m)\u001b[49m\u001b[43m,\u001b[49m\n\u001b[0;32m    436\u001b[0m \u001b[43m\u001b[49m\u001b[43m)\u001b[49m\n",
      "File \u001b[1;32mc:\\Users\\pooo_\\AppData\\Local\\Programs\\Python\\Python313\\Lib\\site-packages\\pandas\\core\\internals\\managers.py:363\u001b[0m, in \u001b[0;36mBaseBlockManager.apply\u001b[1;34m(self, f, align_keys, **kwargs)\u001b[0m\n\u001b[0;32m    361\u001b[0m         applied \u001b[38;5;241m=\u001b[39m b\u001b[38;5;241m.\u001b[39mapply(f, \u001b[38;5;241m*\u001b[39m\u001b[38;5;241m*\u001b[39mkwargs)\n\u001b[0;32m    362\u001b[0m     \u001b[38;5;28;01melse\u001b[39;00m:\n\u001b[1;32m--> 363\u001b[0m         applied \u001b[38;5;241m=\u001b[39m \u001b[38;5;28;43mgetattr\u001b[39;49m\u001b[43m(\u001b[49m\u001b[43mb\u001b[49m\u001b[43m,\u001b[49m\u001b[43m \u001b[49m\u001b[43mf\u001b[49m\u001b[43m)\u001b[49m\u001b[43m(\u001b[49m\u001b[38;5;241;43m*\u001b[39;49m\u001b[38;5;241;43m*\u001b[39;49m\u001b[43mkwargs\u001b[49m\u001b[43m)\u001b[49m\n\u001b[0;32m    364\u001b[0m     result_blocks \u001b[38;5;241m=\u001b[39m extend_blocks(applied, result_blocks)\n\u001b[0;32m    366\u001b[0m out \u001b[38;5;241m=\u001b[39m \u001b[38;5;28mtype\u001b[39m(\u001b[38;5;28mself\u001b[39m)\u001b[38;5;241m.\u001b[39mfrom_blocks(result_blocks, \u001b[38;5;28mself\u001b[39m\u001b[38;5;241m.\u001b[39maxes)\n",
      "File \u001b[1;32mc:\\Users\\pooo_\\AppData\\Local\\Programs\\Python\\Python313\\Lib\\site-packages\\pandas\\core\\internals\\blocks.py:758\u001b[0m, in \u001b[0;36mBlock.astype\u001b[1;34m(self, dtype, copy, errors, using_cow, squeeze)\u001b[0m\n\u001b[0;32m    755\u001b[0m         \u001b[38;5;28;01mraise\u001b[39;00m \u001b[38;5;167;01mValueError\u001b[39;00m(\u001b[38;5;124m\"\u001b[39m\u001b[38;5;124mCan not squeeze with more than one column.\u001b[39m\u001b[38;5;124m\"\u001b[39m)\n\u001b[0;32m    756\u001b[0m     values \u001b[38;5;241m=\u001b[39m values[\u001b[38;5;241m0\u001b[39m, :]  \u001b[38;5;66;03m# type: ignore[call-overload]\u001b[39;00m\n\u001b[1;32m--> 758\u001b[0m new_values \u001b[38;5;241m=\u001b[39m \u001b[43mastype_array_safe\u001b[49m\u001b[43m(\u001b[49m\u001b[43mvalues\u001b[49m\u001b[43m,\u001b[49m\u001b[43m \u001b[49m\u001b[43mdtype\u001b[49m\u001b[43m,\u001b[49m\u001b[43m \u001b[49m\u001b[43mcopy\u001b[49m\u001b[38;5;241;43m=\u001b[39;49m\u001b[43mcopy\u001b[49m\u001b[43m,\u001b[49m\u001b[43m \u001b[49m\u001b[43merrors\u001b[49m\u001b[38;5;241;43m=\u001b[39;49m\u001b[43merrors\u001b[49m\u001b[43m)\u001b[49m\n\u001b[0;32m    760\u001b[0m new_values \u001b[38;5;241m=\u001b[39m maybe_coerce_values(new_values)\n\u001b[0;32m    762\u001b[0m refs \u001b[38;5;241m=\u001b[39m \u001b[38;5;28;01mNone\u001b[39;00m\n",
      "File \u001b[1;32mc:\\Users\\pooo_\\AppData\\Local\\Programs\\Python\\Python313\\Lib\\site-packages\\pandas\\core\\dtypes\\astype.py:237\u001b[0m, in \u001b[0;36mastype_array_safe\u001b[1;34m(values, dtype, copy, errors)\u001b[0m\n\u001b[0;32m    234\u001b[0m     dtype \u001b[38;5;241m=\u001b[39m dtype\u001b[38;5;241m.\u001b[39mnumpy_dtype\n\u001b[0;32m    236\u001b[0m \u001b[38;5;28;01mtry\u001b[39;00m:\n\u001b[1;32m--> 237\u001b[0m     new_values \u001b[38;5;241m=\u001b[39m \u001b[43mastype_array\u001b[49m\u001b[43m(\u001b[49m\u001b[43mvalues\u001b[49m\u001b[43m,\u001b[49m\u001b[43m \u001b[49m\u001b[43mdtype\u001b[49m\u001b[43m,\u001b[49m\u001b[43m \u001b[49m\u001b[43mcopy\u001b[49m\u001b[38;5;241;43m=\u001b[39;49m\u001b[43mcopy\u001b[49m\u001b[43m)\u001b[49m\n\u001b[0;32m    238\u001b[0m \u001b[38;5;28;01mexcept\u001b[39;00m (\u001b[38;5;167;01mValueError\u001b[39;00m, \u001b[38;5;167;01mTypeError\u001b[39;00m):\n\u001b[0;32m    239\u001b[0m     \u001b[38;5;66;03m# e.g. _astype_nansafe can fail on object-dtype of strings\u001b[39;00m\n\u001b[0;32m    240\u001b[0m     \u001b[38;5;66;03m#  trying to convert to float\u001b[39;00m\n\u001b[0;32m    241\u001b[0m     \u001b[38;5;28;01mif\u001b[39;00m errors \u001b[38;5;241m==\u001b[39m \u001b[38;5;124m\"\u001b[39m\u001b[38;5;124mignore\u001b[39m\u001b[38;5;124m\"\u001b[39m:\n",
      "File \u001b[1;32mc:\\Users\\pooo_\\AppData\\Local\\Programs\\Python\\Python313\\Lib\\site-packages\\pandas\\core\\dtypes\\astype.py:182\u001b[0m, in \u001b[0;36mastype_array\u001b[1;34m(values, dtype, copy)\u001b[0m\n\u001b[0;32m    179\u001b[0m     values \u001b[38;5;241m=\u001b[39m values\u001b[38;5;241m.\u001b[39mastype(dtype, copy\u001b[38;5;241m=\u001b[39mcopy)\n\u001b[0;32m    181\u001b[0m \u001b[38;5;28;01melse\u001b[39;00m:\n\u001b[1;32m--> 182\u001b[0m     values \u001b[38;5;241m=\u001b[39m \u001b[43m_astype_nansafe\u001b[49m\u001b[43m(\u001b[49m\u001b[43mvalues\u001b[49m\u001b[43m,\u001b[49m\u001b[43m \u001b[49m\u001b[43mdtype\u001b[49m\u001b[43m,\u001b[49m\u001b[43m \u001b[49m\u001b[43mcopy\u001b[49m\u001b[38;5;241;43m=\u001b[39;49m\u001b[43mcopy\u001b[49m\u001b[43m)\u001b[49m\n\u001b[0;32m    184\u001b[0m \u001b[38;5;66;03m# in pandas we don't store numpy str dtypes, so convert to object\u001b[39;00m\n\u001b[0;32m    185\u001b[0m \u001b[38;5;28;01mif\u001b[39;00m \u001b[38;5;28misinstance\u001b[39m(dtype, np\u001b[38;5;241m.\u001b[39mdtype) \u001b[38;5;129;01mand\u001b[39;00m \u001b[38;5;28missubclass\u001b[39m(values\u001b[38;5;241m.\u001b[39mdtype\u001b[38;5;241m.\u001b[39mtype, \u001b[38;5;28mstr\u001b[39m):\n",
      "File \u001b[1;32mc:\\Users\\pooo_\\AppData\\Local\\Programs\\Python\\Python313\\Lib\\site-packages\\pandas\\core\\dtypes\\astype.py:101\u001b[0m, in \u001b[0;36m_astype_nansafe\u001b[1;34m(arr, dtype, copy, skipna)\u001b[0m\n\u001b[0;32m     96\u001b[0m     \u001b[38;5;28;01mreturn\u001b[39;00m lib\u001b[38;5;241m.\u001b[39mensure_string_array(\n\u001b[0;32m     97\u001b[0m         arr, skipna\u001b[38;5;241m=\u001b[39mskipna, convert_na_value\u001b[38;5;241m=\u001b[39m\u001b[38;5;28;01mFalse\u001b[39;00m\n\u001b[0;32m     98\u001b[0m     )\u001b[38;5;241m.\u001b[39mreshape(shape)\n\u001b[0;32m    100\u001b[0m \u001b[38;5;28;01melif\u001b[39;00m np\u001b[38;5;241m.\u001b[39missubdtype(arr\u001b[38;5;241m.\u001b[39mdtype, np\u001b[38;5;241m.\u001b[39mfloating) \u001b[38;5;129;01mand\u001b[39;00m dtype\u001b[38;5;241m.\u001b[39mkind \u001b[38;5;129;01min\u001b[39;00m \u001b[38;5;124m\"\u001b[39m\u001b[38;5;124miu\u001b[39m\u001b[38;5;124m\"\u001b[39m:\n\u001b[1;32m--> 101\u001b[0m     \u001b[38;5;28;01mreturn\u001b[39;00m \u001b[43m_astype_float_to_int_nansafe\u001b[49m\u001b[43m(\u001b[49m\u001b[43marr\u001b[49m\u001b[43m,\u001b[49m\u001b[43m \u001b[49m\u001b[43mdtype\u001b[49m\u001b[43m,\u001b[49m\u001b[43m \u001b[49m\u001b[43mcopy\u001b[49m\u001b[43m)\u001b[49m\n\u001b[0;32m    103\u001b[0m \u001b[38;5;28;01melif\u001b[39;00m arr\u001b[38;5;241m.\u001b[39mdtype \u001b[38;5;241m==\u001b[39m \u001b[38;5;28mobject\u001b[39m:\n\u001b[0;32m    104\u001b[0m     \u001b[38;5;66;03m# if we have a datetime/timedelta array of objects\u001b[39;00m\n\u001b[0;32m    105\u001b[0m     \u001b[38;5;66;03m# then coerce to datetime64[ns] and use DatetimeArray.astype\u001b[39;00m\n\u001b[0;32m    107\u001b[0m     \u001b[38;5;28;01mif\u001b[39;00m lib\u001b[38;5;241m.\u001b[39mis_np_dtype(dtype, \u001b[38;5;124m\"\u001b[39m\u001b[38;5;124mM\u001b[39m\u001b[38;5;124m\"\u001b[39m):\n",
      "File \u001b[1;32mc:\\Users\\pooo_\\AppData\\Local\\Programs\\Python\\Python313\\Lib\\site-packages\\pandas\\core\\dtypes\\astype.py:145\u001b[0m, in \u001b[0;36m_astype_float_to_int_nansafe\u001b[1;34m(values, dtype, copy)\u001b[0m\n\u001b[0;32m    141\u001b[0m \u001b[38;5;250m\u001b[39m\u001b[38;5;124;03m\"\"\"\u001b[39;00m\n\u001b[0;32m    142\u001b[0m \u001b[38;5;124;03mastype with a check preventing converting NaN to an meaningless integer value.\u001b[39;00m\n\u001b[0;32m    143\u001b[0m \u001b[38;5;124;03m\"\"\"\u001b[39;00m\n\u001b[0;32m    144\u001b[0m \u001b[38;5;28;01mif\u001b[39;00m \u001b[38;5;129;01mnot\u001b[39;00m np\u001b[38;5;241m.\u001b[39misfinite(values)\u001b[38;5;241m.\u001b[39mall():\n\u001b[1;32m--> 145\u001b[0m     \u001b[38;5;28;01mraise\u001b[39;00m IntCastingNaNError(\n\u001b[0;32m    146\u001b[0m         \u001b[38;5;124m\"\u001b[39m\u001b[38;5;124mCannot convert non-finite values (NA or inf) to integer\u001b[39m\u001b[38;5;124m\"\u001b[39m\n\u001b[0;32m    147\u001b[0m     )\n\u001b[0;32m    148\u001b[0m \u001b[38;5;28;01mif\u001b[39;00m dtype\u001b[38;5;241m.\u001b[39mkind \u001b[38;5;241m==\u001b[39m \u001b[38;5;124m\"\u001b[39m\u001b[38;5;124mu\u001b[39m\u001b[38;5;124m\"\u001b[39m:\n\u001b[0;32m    149\u001b[0m     \u001b[38;5;66;03m# GH#45151\u001b[39;00m\n\u001b[0;32m    150\u001b[0m     \u001b[38;5;28;01mif\u001b[39;00m \u001b[38;5;129;01mnot\u001b[39;00m (values \u001b[38;5;241m>\u001b[39m\u001b[38;5;241m=\u001b[39m \u001b[38;5;241m0\u001b[39m)\u001b[38;5;241m.\u001b[39mall():\n",
      "\u001b[1;31mIntCastingNaNError\u001b[0m: Cannot convert non-finite values (NA or inf) to integer"
     ]
    }
   ],
   "source": [
    "df_merged['Registration year'] = df_merged['Registration year'].astype('int')"
   ]
  },
  {
   "cell_type": "code",
   "execution_count": null,
   "metadata": {},
   "outputs": [
    {
     "data": {
      "text/plain": [
       "Customer age                             int64\n",
       "Job                                   category\n",
       "Education                             category\n",
       "Contact method                        category\n",
       "Last int duration                        int64\n",
       "Interactions in campaign                 int64\n",
       "Employment variation rate              float64\n",
       "Employees number                         int64\n",
       "Product/service subscription             int64\n",
       "Customer annual income                 float64\n",
       "Registration date               datetime64[ns]\n",
       "Registration year                        int64\n",
       "dtype: object"
      ]
     },
     "execution_count": 325,
     "metadata": {},
     "output_type": "execute_result"
    }
   ],
   "source": [
    "df_merged.dtypes"
   ]
  },
  {
   "cell_type": "code",
   "execution_count": null,
   "metadata": {},
   "outputs": [
    {
     "data": {
      "text/plain": [
       "Customer age                    0.000000\n",
       "Job                             0.000000\n",
       "Education                       0.000000\n",
       "Contact method                  0.000000\n",
       "Last int duration               0.000000\n",
       "Interactions in campaign        0.000000\n",
       "Employment variation rate       0.000000\n",
       "Employees number                0.000000\n",
       "Product/service subscription    0.000000\n",
       "Customer annual income          0.007361\n",
       "Registration date               0.007361\n",
       "Registration year               0.007361\n",
       "dtype: float64"
      ]
     },
     "execution_count": 313,
     "metadata": {},
     "output_type": "execute_result"
    }
   ],
   "source": [
    "#Calculo el porcentaje de nulos en cada columna del dataset 'merged'\n",
    "(df_merged.isnull().sum()/(len(df_merged)))*100"
   ]
  },
  {
   "cell_type": "code",
   "execution_count": null,
   "metadata": {},
   "outputs": [
    {
     "name": "stderr",
     "output_type": "stream",
     "text": [
      "C:\\Users\\pooo_\\AppData\\Local\\Temp\\ipykernel_8452\\1478765561.py:2: FutureWarning: A value is trying to be set on a copy of a DataFrame or Series through chained assignment using an inplace method.\n",
      "The behavior will change in pandas 3.0. This inplace method will never work because the intermediate object on which we are setting values always behaves as a copy.\n",
      "\n",
      "For example, when doing 'df[col].method(value, inplace=True)', try using 'df.method({col: value}, inplace=True)' or df[col] = df[col].method(value) instead, to perform the operation inplace on the original object.\n",
      "\n",
      "\n",
      "  df_merged['Job'].fillna(df_merged['Job'].mode()[0], inplace=True)\n"
     ]
    }
   ],
   "source": [
    "# Sustituir nulos de 'Job' del dataframe 'merged'\n",
    "df_merged['Job'].fillna(df_merged['Job'].mode()[0], inplace=True)"
   ]
  },
  {
   "cell_type": "code",
   "execution_count": null,
   "metadata": {},
   "outputs": [
    {
     "name": "stderr",
     "output_type": "stream",
     "text": [
      "C:\\Users\\pooo_\\AppData\\Local\\Temp\\ipykernel_8452\\3196013591.py:2: FutureWarning: A value is trying to be set on a copy of a DataFrame or Series through chained assignment using an inplace method.\n",
      "The behavior will change in pandas 3.0. This inplace method will never work because the intermediate object on which we are setting values always behaves as a copy.\n",
      "\n",
      "For example, when doing 'df[col].method(value, inplace=True)', try using 'df.method({col: value}, inplace=True)' or df[col] = df[col].method(value) instead, to perform the operation inplace on the original object.\n",
      "\n",
      "\n",
      "  df_merged['Education'].fillna('Desconocido', inplace=True)\n"
     ]
    }
   ],
   "source": [
    "# Sustituir nulos de 'Education' del dataframe 'merged'\n",
    "df_merged['Education'].fillna('Desconocido', inplace=True)"
   ]
  },
  {
   "cell_type": "code",
   "execution_count": null,
   "metadata": {},
   "outputs": [],
   "source": [
    "#Eliminar duplicados del dataframe 'merged'\n",
    "df_merged = df_merged.drop_duplicates()"
   ]
  },
  {
   "cell_type": "code",
   "execution_count": null,
   "metadata": {},
   "outputs": [
    {
     "data": {
      "text/plain": [
       "Customer age                    0\n",
       "Job                             0\n",
       "Education                       0\n",
       "Contact method                  0\n",
       "Last int duration               0\n",
       "Interactions in campaign        0\n",
       "Employment variation rate       0\n",
       "Employees number                0\n",
       "Product/service subscription    0\n",
       "Customer annual income          3\n",
       "Registration date               3\n",
       "Registration year               3\n",
       "dtype: int64"
      ]
     },
     "execution_count": 317,
     "metadata": {},
     "output_type": "execute_result"
    }
   ],
   "source": [
    "df_merged.isnull().sum()"
   ]
  },
  {
   "cell_type": "code",
   "execution_count": null,
   "metadata": {},
   "outputs": [
    {
     "data": {
      "text/plain": [
       "Customer age                    0\n",
       "Job                             0\n",
       "Education                       0\n",
       "Contact method                  0\n",
       "Last int duration               0\n",
       "Interactions in campaign        0\n",
       "Employment variation rate       0\n",
       "Employees number                0\n",
       "Product/service subscription    0\n",
       "Customer annual income          0\n",
       "Registration date               0\n",
       "Registration year               0\n",
       "dtype: int64"
      ]
     },
     "execution_count": 318,
     "metadata": {},
     "output_type": "execute_result"
    }
   ],
   "source": [
    "# Eliminar nulos del dataset 'merged'\n",
    "\n",
    "df_merged = df_merged.dropna(subset=['Customer annual income'])\n",
    "df_merged.isnull().sum()"
   ]
  },
  {
   "cell_type": "code",
   "execution_count": null,
   "metadata": {},
   "outputs": [
    {
     "data": {
      "text/plain": [
       "Customer age                             int64\n",
       "Job                                   category\n",
       "Education                             category\n",
       "Contact method                        category\n",
       "Last int duration                        int64\n",
       "Interactions in campaign                 int64\n",
       "Employment variation rate              float64\n",
       "Employees number                         int64\n",
       "Product/service subscription             int64\n",
       "Customer annual income                 float64\n",
       "Registration date               datetime64[ns]\n",
       "Registration year                      float64\n",
       "dtype: object"
      ]
     },
     "execution_count": 319,
     "metadata": {},
     "output_type": "execute_result"
    }
   ],
   "source": [
    "# Ver tipo de datos \n",
    "df_customer_details.dtypes\n",
    "\n",
    "df_merged.dtypes\n"
   ]
  },
  {
   "cell_type": "code",
   "execution_count": null,
   "metadata": {},
   "outputs": [
    {
     "data": {
      "text/html": [
       "<div>\n",
       "<style scoped>\n",
       "    .dataframe tbody tr th:only-of-type {\n",
       "        vertical-align: middle;\n",
       "    }\n",
       "\n",
       "    .dataframe tbody tr th {\n",
       "        vertical-align: top;\n",
       "    }\n",
       "\n",
       "    .dataframe thead th {\n",
       "        text-align: right;\n",
       "    }\n",
       "</style>\n",
       "<table border=\"1\" class=\"dataframe\">\n",
       "  <thead>\n",
       "    <tr style=\"text-align: right;\">\n",
       "      <th></th>\n",
       "      <th>Customer age</th>\n",
       "      <th>Job</th>\n",
       "      <th>Education</th>\n",
       "      <th>Contact method</th>\n",
       "      <th>Last int duration</th>\n",
       "      <th>Interactions in campaign</th>\n",
       "      <th>Employment variation rate</th>\n",
       "      <th>Employees number</th>\n",
       "      <th>Product/service subscription</th>\n",
       "      <th>Customer annual income</th>\n",
       "      <th>Registration date</th>\n",
       "      <th>Registration year</th>\n",
       "    </tr>\n",
       "  </thead>\n",
       "  <tbody>\n",
       "    <tr>\n",
       "      <th>0</th>\n",
       "      <td>38</td>\n",
       "      <td>housemaid</td>\n",
       "      <td>Basic 4 years</td>\n",
       "      <td>telephone</td>\n",
       "      <td>261</td>\n",
       "      <td>1</td>\n",
       "      <td>1.1</td>\n",
       "      <td>5191</td>\n",
       "      <td>0</td>\n",
       "      <td>161770.0</td>\n",
       "      <td>2012-04-04</td>\n",
       "      <td>2012.0</td>\n",
       "    </tr>\n",
       "    <tr>\n",
       "      <th>1</th>\n",
       "      <td>57</td>\n",
       "      <td>services</td>\n",
       "      <td>High School</td>\n",
       "      <td>telephone</td>\n",
       "      <td>149</td>\n",
       "      <td>1</td>\n",
       "      <td>1.1</td>\n",
       "      <td>5191</td>\n",
       "      <td>0</td>\n",
       "      <td>85477.0</td>\n",
       "      <td>2012-12-30</td>\n",
       "      <td>2012.0</td>\n",
       "    </tr>\n",
       "  </tbody>\n",
       "</table>\n",
       "</div>"
      ],
      "text/plain": [
       "   Customer age        Job      Education Contact method  Last int duration  \\\n",
       "0            38  housemaid  Basic 4 years      telephone                261   \n",
       "1            57   services    High School      telephone                149   \n",
       "\n",
       "   Interactions in campaign  Employment variation rate  Employees number  \\\n",
       "0                         1                        1.1              5191   \n",
       "1                         1                        1.1              5191   \n",
       "\n",
       "   Product/service subscription  Customer annual income Registration date  \\\n",
       "0                             0                161770.0        2012-04-04   \n",
       "1                             0                 85477.0        2012-12-30   \n",
       "\n",
       "   Registration year  \n",
       "0             2012.0  \n",
       "1             2012.0  "
      ]
     },
     "execution_count": 372,
     "metadata": {},
     "output_type": "execute_result"
    }
   ],
   "source": [
    "\n",
    "df_merged.head(2)"
   ]
  },
  {
   "cell_type": "code",
   "execution_count": null,
   "metadata": {},
   "outputs": [
    {
     "data": {
      "text/plain": [
       "Customer age                             int64\n",
       "Job                                   category\n",
       "Education                             category\n",
       "Contact method                        category\n",
       "Last int duration                        int64\n",
       "Interactions in campaign                 int64\n",
       "Employment variation rate              float64\n",
       "Employees number                         int64\n",
       "Product/service subscription             int64\n",
       "Customer annual income                 float64\n",
       "Registration date               datetime64[ns]\n",
       "Registration year                      float64\n",
       "dtype: object"
      ]
     },
     "execution_count": 373,
     "metadata": {},
     "output_type": "execute_result"
    }
   ],
   "source": [
    "df_merged.dtypes    "
   ]
  },
  {
   "cell_type": "code",
   "execution_count": null,
   "metadata": {},
   "outputs": [
    {
     "name": "stdout",
     "output_type": "stream",
     "text": [
      "  Registration date Interaction month\n",
      "0        2012-04-04             April\n",
      "1        2012-12-30          December\n",
      "2        2012-02-02          February\n",
      "3        2012-12-21          December\n",
      "4        2012-06-20              June\n"
     ]
    }
   ],
   "source": [
    "#Generar nueva columna del mes en que se contacto al cliente durante la campaña\n",
    "\n",
    "# Crear una nueva columna 'Interaction month' con el mes en que se realizó la interacción\n",
    "df_merged['Interaction month'] = df_merged['Registration date'].dt.month_name()\n",
    "\n",
    "# Verificar los primeros registros\n",
    "print(df_merged[['Registration date', 'Interaction month']].head())\n"
   ]
  },
  {
   "cell_type": "code",
   "execution_count": null,
   "metadata": {},
   "outputs": [],
   "source": [
    "#🔸STEP 5:GRAPHICS"
   ]
  },
  {
   "cell_type": "code",
   "execution_count": null,
   "metadata": {},
   "outputs": [
    {
     "data": {
      "image/png": "[encoded data removed]",
      "text/plain": [
       "<Figure size 640x480 with 1 Axes>"
      ]
     },
     "metadata": {},
     "output_type": "display_data"
    }
   ],
   "source": [
    "#Distribucion de la edad\n",
    "age_ax =sns.histplot(df_merged['Customer age'], bins=20, kde=True, color='salmon')\n",
    "age_ax.set_title(\"Distribución de Edad\")\n",
    "plt.show()\n"
   ]
  },
  {
   "cell_type": "code",
   "execution_count": null,
   "metadata": {},
   "outputs": [
    {
     "name": "stderr",
     "output_type": "stream",
     "text": [
      "C:\\Users\\pooo_\\AppData\\Local\\Temp\\ipykernel_13692\\143776166.py:2: FutureWarning: \n",
      "\n",
      "Passing `palette` without assigning `hue` is deprecated and will be removed in v0.14.0. Assign the `x` variable to `hue` and set `legend=False` for the same effect.\n",
      "\n",
      "  sns.countplot(x=df_bank['job'], order=df_bank['job'].value_counts().index, palette=\"coolwarm\")\n"
     ]
    },
    {
     "data": {
      "image/png": "[encoded data removed]",
      "text/plain": [
       "<Figure size 800x400 with 1 Axes>"
      ]
     },
     "metadata": {},
     "output_type": "display_data"
    }
   ],
   "source": [
    "plt.figure(figsize=(8, 4))  # Ajusta el tamaño para mejor visibilidad\n",
    "sns.countplot(x=df_bank['job'], order=df_bank['job'].value_counts().index, palette=\"coolwarm\")\n",
    "plt.title(\"Frecuencia de Trabajos\")\n",
    "plt.xticks(rotation=45)  # Rota etiquetas para que sean legibles\n",
    "plt.show()"
   ]
  },
  {
   "cell_type": "code",
   "execution_count": null,
   "metadata": {},
   "outputs": [
    {
     "name": "stderr",
     "output_type": "stream",
     "text": [
      "C:\\Users\\pooo_\\AppData\\Local\\Temp\\ipykernel_13692\\354821560.py:5: FutureWarning: \n",
      "\n",
      "Passing `palette` without assigning `hue` is deprecated and will be removed in v0.14.0. Assign the `x` variable to `hue` and set `legend=False` for the same effect.\n",
      "\n",
      "  ax1 = sns.countplot(data=df_merged, x=df_merged['Product/service subscription'].replace({0:'no',1:'yes'}), palette=['salmon','skyblue'])\n"
     ]
    },
    {
     "data": {
      "image/png": "[encoded data removed]",
      "text/plain": [
       "<Figure size 500x400 with 1 Axes>"
      ]
     },
     "metadata": {},
     "output_type": "display_data"
    },
    {
     "name": "stdout",
     "output_type": "stream",
     "text": [
      "Porcentaje de aceptación:11.34%\n"
     ]
    }
   ],
   "source": [
    "#📌1. ¿Cuántos clientes aceptaron el depósito a plazo?\n",
    "\n",
    "plt.figure(figsize=(5, 4)) \n",
    "\n",
    "ax1 = sns.countplot(data=df_merged, x=df_merged['Product/service subscription'].replace({0:'no',1:'yes'}), palette=['salmon','skyblue'])\n",
    "ax1.set_title('Distribución de clientes que aceptaron el depósito')\n",
    "ax1.set_xlabel('Aceptó el depósito')\n",
    "ax1.set_ylabel('Cantidad de clientes')\n",
    "\n",
    "plt.show(ax1)\n",
    "\n",
    "#Calculo la media de aceptación del depósito\n",
    "acceptance_rate = df_merged['Product/service subscription'].mean()*100\n",
    "print(f'Porcentaje de aceptación:{acceptance_rate:.2f}%')\n"
   ]
  },
  {
   "cell_type": "code",
   "execution_count": null,
   "metadata": {},
   "outputs": [
    {
     "name": "stderr",
     "output_type": "stream",
     "text": [
      "C:\\Users\\pooo_\\AppData\\Local\\Temp\\ipykernel_13692\\2085861992.py:4: FutureWarning: \n",
      "\n",
      "Passing `palette` without assigning `hue` is deprecated and will be removed in v0.14.0. Assign the `x` variable to `hue` and set `legend=False` for the same effect.\n",
      "\n",
      "  ax2 = sns.boxplot(data=df_merged, x=df_merged['Product/service subscription'].replace({0:'no',1:'yes'}), y=\"Customer age\", palette=['salmon','skyblue'])\n"
     ]
    },
    {
     "data": {
      "image/png": "[encoded data removed]",
      "text/plain": [
       "<Figure size 640x480 with 1 Axes>"
      ]
     },
     "metadata": {},
     "output_type": "display_data"
    },
    {
     "name": "stderr",
     "output_type": "stream",
     "text": [
      "C:\\Users\\pooo_\\AppData\\Local\\Temp\\ipykernel_13692\\2085861992.py:9: FutureWarning: \n",
      "\n",
      "The `ci` parameter is deprecated. Use `errorbar=None` for the same effect.\n",
      "\n",
      "  ax3 = sns.barplot(data=df_merged, x=\"Job\", y='Product/service subscription', estimator=lambda x: sum(x) / len(x), palette=['salmon','skyblue'], ci=None)\n",
      "C:\\Users\\pooo_\\AppData\\Local\\Temp\\ipykernel_13692\\2085861992.py:9: FutureWarning: \n",
      "\n",
      "Passing `palette` without assigning `hue` is deprecated and will be removed in v0.14.0. Assign the `x` variable to `hue` and set `legend=False` for the same effect.\n",
      "\n",
      "  ax3 = sns.barplot(data=df_merged, x=\"Job\", y='Product/service subscription', estimator=lambda x: sum(x) / len(x), palette=['salmon','skyblue'], ci=None)\n",
      "C:\\Users\\pooo_\\AppData\\Local\\Temp\\ipykernel_13692\\2085861992.py:9: UserWarning: \n",
      "The palette list has fewer values (2) than needed (11) and will cycle, which may produce an uninterpretable plot.\n",
      "  ax3 = sns.barplot(data=df_merged, x=\"Job\", y='Product/service subscription', estimator=lambda x: sum(x) / len(x), palette=['salmon','skyblue'], ci=None)\n"
     ]
    },
    {
     "data": {
      "image/png": "[encoded data removed]",
      "text/plain": [
       "<Figure size 640x480 with 1 Axes>"
      ]
     },
     "metadata": {},
     "output_type": "display_data"
    },
    {
     "name": "stderr",
     "output_type": "stream",
     "text": [
      "C:\\Users\\pooo_\\AppData\\Local\\Temp\\ipykernel_13692\\2085861992.py:15: FutureWarning: \n",
      "\n",
      "The `ci` parameter is deprecated. Use `errorbar=None` for the same effect.\n",
      "\n",
      "  ax4 = sns.barplot(data=df_merged, x=\"Education\", y=\"Product/service subscription\", estimator=lambda x: sum(x) / len(x), palette=['salmon','skyblue'], ci=None)\n",
      "C:\\Users\\pooo_\\AppData\\Local\\Temp\\ipykernel_13692\\2085861992.py:15: FutureWarning: \n",
      "\n",
      "Passing `palette` without assigning `hue` is deprecated and will be removed in v0.14.0. Assign the `x` variable to `hue` and set `legend=False` for the same effect.\n",
      "\n",
      "  ax4 = sns.barplot(data=df_merged, x=\"Education\", y=\"Product/service subscription\", estimator=lambda x: sum(x) / len(x), palette=['salmon','skyblue'], ci=None)\n",
      "C:\\Users\\pooo_\\AppData\\Local\\Temp\\ipykernel_13692\\2085861992.py:15: UserWarning: \n",
      "The palette list has fewer values (2) than needed (8) and will cycle, which may produce an uninterpretable plot.\n",
      "  ax4 = sns.barplot(data=df_merged, x=\"Education\", y=\"Product/service subscription\", estimator=lambda x: sum(x) / len(x), palette=['salmon','skyblue'], ci=None)\n"
     ]
    },
    {
     "data": {
      "image/png": "[encoded data removed]",
      "text/plain": [
       "<Figure size 640x480 with 1 Axes>"
      ]
     },
     "metadata": {},
     "output_type": "display_data"
    }
   ],
   "source": [
    "#📌2. ¿Qué tipo de clientes son más propensos a aceptar la oferta?\n",
    "\n",
    "# Edad vs. Suscripción\n",
    "ax2 = sns.boxplot(data=df_merged, x=df_merged['Product/service subscription'].replace({0:'no',1:'yes'}), y=\"Customer age\", palette=['salmon','skyblue'])\n",
    "ax2.set_title('Edad de clientes según aceptación del depósito')\n",
    "plt.show()  \n",
    "\n",
    "# Trabajo vs. Suscripción\n",
    "ax3 = sns.barplot(data=df_merged, x=\"Job\", y='Product/service subscription', estimator=lambda x: sum(x) / len(x), palette=['salmon','skyblue'], ci=None)\n",
    "ax3.set_title('Proporción de aceptación por ocupación')\n",
    "plt.xticks(rotation=45)  # Rotar etiquetas en el eje X\n",
    "plt.show()  \n",
    "\n",
    "# Nivel educativo vs. Suscripción\n",
    "ax4 = sns.barplot(data=df_merged, x=\"Education\", y=\"Product/service subscription\", estimator=lambda x: sum(x) / len(x), palette=['salmon','skyblue'], ci=None)\n",
    "ax4.set_title('Proporción de aceptación por educación')\n",
    "plt.xticks(rotation=45)  # Rotar etiquetas en el eje X\n",
    "plt.show() \n"
   ]
  },
  {
   "cell_type": "code",
   "execution_count": null,
   "metadata": {},
   "outputs": [
    {
     "name": "stderr",
     "output_type": "stream",
     "text": [
      "C:\\Users\\pooo_\\AppData\\Local\\Temp\\ipykernel_8452\\3863127240.py:4: FutureWarning: \n",
      "\n",
      "Passing `palette` without assigning `hue` is deprecated and will be removed in v0.14.0. Assign the `x` variable to `hue` and set `legend=False` for the same effect.\n",
      "\n",
      "  ax5 =  sns.boxplot(data=df_merged, x=df_merged['Product/service subscription'].replace({0:'no',1:'yes'}), y=\"Last int duration\", palette=['salmon','skyblue'])\n"
     ]
    },
    {
     "data": {
      "image/png": "[encoded data removed]",
      "text/plain": [
       "<Figure size 640x480 with 1 Axes>"
      ]
     },
     "metadata": {},
     "output_type": "display_data"
    },
    {
     "name": "stderr",
     "output_type": "stream",
     "text": [
      "C:\\Users\\pooo_\\AppData\\Local\\Temp\\ipykernel_8452\\3863127240.py:9: FutureWarning: \n",
      "\n",
      "Passing `palette` without assigning `hue` is deprecated and will be removed in v0.14.0. Assign the `x` variable to `hue` and set `legend=False` for the same effect.\n",
      "\n",
      "  ax6 = sns.boxplot(data=df_bank_clean, x=\"Product/service subscription\", y=\"Interactions in campaign\", palette=['salmon','skyblue'])\n"
     ]
    },
    {
     "data": {
      "image/png": "[encoded data removed]",
      "text/plain": [
       "<Figure size 640x480 with 1 Axes>"
      ]
     },
     "metadata": {},
     "output_type": "display_data"
    }
   ],
   "source": [
    "#📌3. ¿Cuántas llamadas fueron necesarias para convencer a los clientes?\n",
    "\n",
    "# Duración de la llamada vs. Conversión\n",
    "ax5 =  sns.boxplot(data=df_merged, x=df_merged['Product/service subscription'].replace({0:'no',1:'yes'}), y=\"Last int duration\", palette=['salmon','skyblue'])\n",
    "ax5.set_title('Duración de llamada según aceptación')\n",
    "plt.show()\n",
    "\n",
    "#Número de intentos vs. Conversión\n",
    "ax6 = sns.boxplot(data=df_bank_clean, x=\"Product/service subscription\", y=\"Interactions in campaign\", palette=['salmon','skyblue'])\n",
    "ax6.set_title('Número de contactos según aceptación')\n",
    "plt.show()"
   ]
  },
  {
   "cell_type": "code",
   "execution_count": null,
   "metadata": {},
   "outputs": [
    {
     "name": "stderr",
     "output_type": "stream",
     "text": [
      "C:\\Users\\pooo_\\AppData\\Local\\Temp\\ipykernel_8452\\3077333523.py:7: FutureWarning: \n",
      "\n",
      "The `ci` parameter is deprecated. Use `errorbar=None` for the same effect.\n",
      "\n",
      "  ax7 = sns.barplot(data=df_merged, x=\"Interaction month\", y=\"Product/service subscription\", estimator=lambda x: sum(x) / len(x), palette=['skyblue','salmon'], ci=None )\n",
      "C:\\Users\\pooo_\\AppData\\Local\\Temp\\ipykernel_8452\\3077333523.py:7: FutureWarning: \n",
      "\n",
      "Passing `palette` without assigning `hue` is deprecated and will be removed in v0.14.0. Assign the `x` variable to `hue` and set `legend=False` for the same effect.\n",
      "\n",
      "  ax7 = sns.barplot(data=df_merged, x=\"Interaction month\", y=\"Product/service subscription\", estimator=lambda x: sum(x) / len(x), palette=['skyblue','salmon'], ci=None )\n",
      "C:\\Users\\pooo_\\AppData\\Local\\Temp\\ipykernel_8452\\3077333523.py:7: UserWarning: \n",
      "The palette list has fewer values (2) than needed (12) and will cycle, which may produce an uninterpretable plot.\n",
      "  ax7 = sns.barplot(data=df_merged, x=\"Interaction month\", y=\"Product/service subscription\", estimator=lambda x: sum(x) / len(x), palette=['skyblue','salmon'], ci=None )\n"
     ]
    },
    {
     "data": {
      "image/png": "[encoded data removed]",
      "text/plain": [
       "<Figure size 1200x600 with 1 Axes>"
      ]
     },
     "metadata": {},
     "output_type": "display_data"
    },
    {
     "name": "stderr",
     "output_type": "stream",
     "text": [
      "C:\\Users\\pooo_\\AppData\\Local\\Temp\\ipykernel_8452\\3077333523.py:17: UserWarning: Ignoring `palette` because no `hue` variable has been assigned.\n",
      "  ax8 = sns.scatterplot(data=df_merged, x=\"Employment variation rate\", y=\"Product/service subscription\",palette=['skyblue','salmon'], alpha=0.5)\n"
     ]
    },
    {
     "data": {
      "image/png": "[encoded data removed]",
      "text/plain": [
       "<Figure size 1200x600 with 1 Axes>"
      ]
     },
     "metadata": {},
     "output_type": "display_data"
    }
   ],
   "source": [
    "#📌4. ¿Influyen las condiciones económicas en la decisión?\n",
    "\n",
    "# Ajustar el tamaño de la figura para ax7\n",
    "plt.figure(figsize=(12, 6))  # Puedes cambiar el tamaño a tu preferencia\n",
    "\n",
    "# Mes de la campaña vs. Tasa de éxito\n",
    "ax7 = sns.barplot(data=df_merged, x=\"Interaction month\", y=\"Product/service subscription\", estimator=lambda x: sum(x) / len(x), palette=['skyblue','salmon'], ci=None )\n",
    "ax7.set_title('Tasa de éxito por mes de contacto')\n",
    "\n",
    "# Mostrar el gráfico\n",
    "plt.show()\n",
    "\n",
    "# Ajustar el tamaño de la figura para ax8 (si lo deseas)\n",
    "plt.figure(figsize=(12, 6))  # También puedes ajustar el tamaño para ax8\n",
    "\n",
    "# Tasa de empleo vs. Conversión\n",
    "ax8 = sns.scatterplot(data=df_merged, x=\"Employment variation rate\", y=\"Product/service subscription\",palette=['skyblue','salmon'], alpha=0.5)\n",
    "ax8.set_title(\"Tasa de empleo vs. Suscripción\")\n",
    "\n",
    "# Mostrar el gráfico\n",
    "plt.show()\n",
    "\n"
   ]
  },
  {
   "cell_type": "code",
   "execution_count": null,
   "metadata": {},
   "outputs": [
    {
     "name": "stderr",
     "output_type": "stream",
     "text": [
      "C:\\Users\\pooo_\\AppData\\Local\\Temp\\ipykernel_8452\\392278625.py:5: FutureWarning: \n",
      "\n",
      "Passing `palette` without assigning `hue` is deprecated and will be removed in v0.14.0. Assign the `x` variable to `hue` and set `legend=False` for the same effect.\n",
      "\n",
      "  sns.countplot(data=df_merged, x='Interaction month', palette='coolwarm')\n"
     ]
    },
    {
     "data": {
      "image/png": "[encoded data removed]",
      "text/plain": [
       "<Figure size 1200x600 with 1 Axes>"
      ]
     },
     "metadata": {},
     "output_type": "display_data"
    }
   ],
   "source": [
    "# Ajustar el tamaño de la figura\n",
    "plt.figure(figsize=(12, 6))  # Puedes cambiar el tamaño a tu preferencia\n",
    "\n",
    "# Gráfico usando la columna 'Interaction month'\n",
    "sns.countplot(data=df_merged, x='Interaction month', palette='coolwarm')\n",
    "\n",
    "# Agregar título y mostrar\n",
    "plt.title(\"Distribución de interacciones por mes\")\n",
    "plt.show()\n"
   ]
  },
  {
   "cell_type": "code",
   "execution_count": null,
   "metadata": {},
   "outputs": [
    {
     "data": {
      "image/png": "[encoded data removed]",
      "text/plain": [
       "<Figure size 640x480 with 1 Axes>"
      ]
     },
     "metadata": {},
     "output_type": "display_data"
    },
    {
     "data": {
      "image/png": "[encoded data removed]",
      "text/plain": [
       "<Figure size 640x480 with 1 Axes>"
      ]
     },
     "metadata": {},
     "output_type": "display_data"
    }
   ],
   "source": [
    "#📌5. ¿Cómo interactúan los factores entre sí?\n",
    "\n",
    "# Edad + Educación vs. Suscripción\n",
    "ax9= sns.boxplot(data=df_merged, x=\"Education\", y=\"Customer age\", hue=\"Product/service subscription\", palette=['salmon','skyblue'])\n",
    "plt.xticks(rotation=45)\n",
    "ax9.set_title(\"Edad y educación vs. aceptación del depósito\")\n",
    "plt.show()\n",
    "\n",
    "#Duración de llamada en diferentes grupos\n",
    "ax10 = sns.boxplot(data=df_merged, x=\"Job\", y=\"Last int duration\", hue=\"Product/service subscription\", palette=['salmon','skyblue'])\n",
    "plt.xticks(rotation=45)\n",
    "ax10.set_title(\"Duración de llamada por ocupación y aceptación\")\n",
    "plt.show() \n"
   ]
  },
  {
   "cell_type": "code",
   "execution_count": null,
   "metadata": {},
   "outputs": [],
   "source": [
    "#Guardar datos transformados\n",
    "\n",
    "# Crear la carpeta si no existe\n",
    "ruta_guardado = \"datos_transformados\"\n",
    "os.makedirs(ruta_guardado, exist_ok=True)\n",
    "\n",
    "# Guardar los archivos en la carpeta\n",
    "#df.to_csv(os.path.join(ruta_guardado, 'datos_transformados.csv'), index=False)\n",
    "df_merged.to_excel(os.path.join(ruta_guardado, 'datos_transformados.xlsx'), index=False)\n",
    "\n",
    "\n"
   ]
  }
 ],
 "metadata": {
  "kernelspec": {
   "display_name": "Python 3",
   "language": "python",
   "name": "python3"
  },
  "language_info": {
   "codemirror_mode": {
    "name": "ipython",
    "version": 3
   },
   "file_extension": ".py",
   "mimetype": "text/x-python",
   "name": "python",
   "nbconvert_exporter": "python",
   "pygments_lexer": "ipython3",
   "version": "3.13.1"
  }
 },
 "nbformat": 4,
 "nbformat_minor": 2
}
